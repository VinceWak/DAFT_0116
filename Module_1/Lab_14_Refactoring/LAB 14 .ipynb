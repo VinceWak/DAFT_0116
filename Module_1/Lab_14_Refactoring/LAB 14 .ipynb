{
 "cells": [
  {
   "cell_type": "code",
   "execution_count": null,
   "id": "fd4de1cc",
   "metadata": {},
   "outputs": [],
   "source": [
    "import random\n",
    "import re\n",
    "\n",
    "def generate_password():\n",
    "  character_number = [chr(i) for i in range(48,57)]\n",
    "  character_symbol = [chr(i) for i in range(33,47)]\n",
    "  character_lower = [chr(i) for i in range(97,122)]\n",
    "  character_upper = [chr(i) for i in range(65,90)]\n",
    "  total_character = [chr(i) for i in range(33,122)]\n",
    "  lists = []\n",
    "  lists.append(character_number)\n",
    "  lists.append(character_symbol)\n",
    "  lists.append(character_lower)\n",
    "  lists.append(character_upper)\n",
    "\n",
    "  password = []\n",
    "  n = 20\n",
    "\n",
    "  for i in range(n):\n",
    "    for j in range(4):\n",
    "      randomItem = random.sample(lists[j],1)\n",
    "      #Appends lists of random samples of length 1 to our list password\n",
    "      password.append(randomItem)\n",
    "  #Turns that list of lists into a string variable    \n",
    "  password_str = ''.join([i[0] for i in password])\n",
    "  #Randomly organises the items in password_str\n",
    "  password_str = ''.join(random.sample(password_str,len(password_str)))\n",
    "  return (\"Your Password is: %s\"%password_str)\n",
    "\n",
    "username = str(input(\"Your email is: \"))\n",
    "pattern = \"[\\w+\\.-]+@[\\w+]+\\.[\\w+]+\"\n",
    " \n",
    "while True:\n",
    "  \n",
    "  if re.findall(pattern, username):\n",
    "    print(generate_password())\n",
    "    break\n",
    "  else:\n",
    "    print(\"Please input a proper email address:\")\n",
    "    type2 = str(input(\"Your email is: \"))\n",
    "    username = type2\n",
    "    generate_password()"
   ]
  },
  {
   "cell_type": "code",
   "execution_count": null,
   "id": "f7704cad",
   "metadata": {},
   "outputs": [],
   "source": []
  }
 ],
 "metadata": {
  "kernelspec": {
   "display_name": "Python 3 (ipykernel)",
   "language": "python",
   "name": "python3"
  },
  "language_info": {
   "codemirror_mode": {
    "name": "ipython",
    "version": 3
   },
   "file_extension": ".py",
   "mimetype": "text/x-python",
   "name": "python",
   "nbconvert_exporter": "python",
   "pygments_lexer": "ipython3",
   "version": "3.9.13"
  }
 },
 "nbformat": 4,
 "nbformat_minor": 5
}
