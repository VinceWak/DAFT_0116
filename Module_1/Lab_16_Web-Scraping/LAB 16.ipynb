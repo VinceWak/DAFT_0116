{
 "cells": [
  {
   "cell_type": "markdown",
   "metadata": {},
   "source": [
    "# Web Scraping Lab\n",
    "\n",
    "You will find in this notebook some scrapy exercises to practise your scraping skills.\n",
    "\n",
    "**Tips:**\n",
    "\n",
    "- Check the response status code for each request to ensure you have obtained the intended content.\n",
    "- Print the response text in each request to understand the kind of info you are getting and its format.\n",
    "- Check for patterns in the response text to extract the data/info requested in each question.\n",
    "- Visit the urls below and take a look at their source code through Chrome DevTools. You'll need to identify the html tags, special class names, etc used in the html content you are expected to extract.\n",
    "\n",
    "**Resources**:\n",
    "- [Requests library](http://docs.python-requests.org/en/master/#the-user-guide)\n",
    "- [Beautiful Soup Doc](https://www.crummy.com/software/BeautifulSoup/bs4/doc/)\n",
    "- [Urllib](https://docs.python.org/3/library/urllib.html#module-urllib)\n",
    "- [re lib](https://docs.python.org/3/library/re.html)\n",
    "- [lxml lib](https://lxml.de/)\n",
    "- [Scrapy](https://scrapy.org/)\n",
    "- [List of HTTP status codes](https://en.wikipedia.org/wiki/List_of_HTTP_status_codes)\n",
    "- [HTML basics](http://www.simplehtmlguide.com/cheatsheet.php)\n",
    "- [CSS basics](https://www.cssbasics.com/#page_start)"
   ]
  },
  {
   "cell_type": "markdown",
   "metadata": {},
   "source": [
    "#### Below are the libraries and modules you may need. `requests`,  `BeautifulSoup` and `pandas` are already imported for you. If you prefer to use additional libraries feel free to do it."
   ]
  },
  {
   "cell_type": "code",
   "execution_count": null,
   "metadata": {},
   "outputs": [],
   "source": [
    "import requests\n",
    "from bs4 import BeautifulSoup\n",
    "import pandas as pd"
   ]
  },
  {
   "cell_type": "markdown",
   "metadata": {},
   "source": [
    "#### Download, parse (using BeautifulSoup), and print the content from the Trending Developers page from GitHub:"
   ]
  },
  {
   "cell_type": "code",
   "execution_count": null,
   "metadata": {},
   "outputs": [],
   "source": [
    "# This is the url you will scrape in this exercise\n",
    "url = 'https://github.com/trending/developers'"
   ]
  },
  {
   "cell_type": "code",
   "execution_count": 4,
   "metadata": {},
   "outputs": [
    {
     "name": "stdout",
     "output_type": "stream",
     "text": [
      "['Emil Ernerfeldt', 'Manu MA', 'atomiks', 'Azure SDK Bot', 'Marten Seemann', 'Hadley Wickham', 'Charlie Marsh', 'Alessandro Ros', 'Earle F. Philhower, III', 'Christy Jacob', 'George Hotz', 'Marc Philipp', 'Folkert de Vries', 'Leandro von Werra', 'Adrienne Walker', 'Christopher Berner', 'josegonzalez', \"Kael'thas\", 'Serhii Kulykov', 'Haifeng Jin', 'boojack', 'Ryan Bates', 'Hans-Kristian Arntzen', 'David Sherret', 'Romain Beaumont']\n"
     ]
    }
   ],
   "source": [
    "# This is the url you will scrape in this exercise\n",
    "url = 'https://github.com/trending/developers'\n",
    "\n",
    "# your code here\n",
    "import requests\n",
    "from bs4 import BeautifulSoup\n",
    "\n",
    "# Extract the page content and create a BeautifulSoup object\n",
    "page = requests.get(url)\n",
    "soup = BeautifulSoup(page.content, 'html.parser')\n",
    "\n",
    "# Find the html elements that contain the developer names\n",
    "developers = soup.find_all('h1', {'class': 'h3 lh-condensed'})\n",
    "\n",
    "# Create a list to store the cleaned names\n",
    "names = []\n",
    "\n",
    "# Iterate through the elements and clean the names\n",
    "for developer in developers:\n",
    "    name = developer.text.strip().replace('\\n', '')\n",
    "    names.append(name)\n",
    "\n",
    "# Print the list of names\n",
    "print(names)"
   ]
  },
  {
   "cell_type": "markdown",
   "metadata": {},
   "source": [
    "#### Display the names of the trending developers retrieved in the previous step.\n",
    "\n",
    "Your output should be a Python list of developer names. Each name should not contain any html tag.\n",
    "\n",
    "**Instructions:**\n",
    "\n",
    "1. Find out the html tag and class names used for the developer names. You can achieve this using Chrome DevTools.\n",
    "\n",
    "1. Use BeautifulSoup to extract all the html elements that contain the developer names.\n",
    "\n",
    "1. Use string manipulation techniques to replace whitespaces and linebreaks (i.e. `\\n`) in the *text* of each html element. Use a list to store the clean names.\n",
    "\n",
    "1. Print the list of names.\n",
    "\n",
    "Your output should look like below:\n",
    "\n",
    "```\n",
    "['trimstray (@trimstray)',\n",
    " 'joewalnes (JoeWalnes)',\n",
    " 'charlax (Charles-AxelDein)',\n",
    " 'ForrestKnight (ForrestKnight)',\n",
    " 'revery-ui (revery-ui)',\n",
    " 'alibaba (Alibaba)',\n",
    " 'Microsoft (Microsoft)',\n",
    " 'github (GitHub)',\n",
    " 'facebook (Facebook)',\n",
    " 'boazsegev (Bo)',\n",
    " 'google (Google)',\n",
    " 'cloudfetch',\n",
    " 'sindresorhus (SindreSorhus)',\n",
    " 'tensorflow',\n",
    " 'apache (TheApacheSoftwareFoundation)',\n",
    " 'DevonCrawford (DevonCrawford)',\n",
    " 'ARMmbed (ArmMbed)',\n",
    " 'vuejs (vuejs)',\n",
    " 'fastai (fast.ai)',\n",
    " 'QiShaoXuan (Qi)',\n",
    " 'joelparkerhenderson (JoelParkerHenderson)',\n",
    " 'torvalds (LinusTorvalds)',\n",
    " 'CyC2018',\n",
    " 'komeiji-satori (神楽坂覚々)',\n",
    " 'script-8']\n",
    " ```"
   ]
  },
  {
   "cell_type": "code",
   "execution_count": null,
   "metadata": {},
   "outputs": [],
   "source": [
    "\n",
    "\n",
    "\n",
    "\n"
   ]
  },
  {
   "cell_type": "markdown",
   "metadata": {},
   "source": [
    "#### Display the trending Python repositories in GitHub.\n",
    "\n",
    "The steps to solve this problem is similar to the previous one except that you need to find out the repository names instead of developer names."
   ]
  },
  {
   "cell_type": "code",
   "execution_count": 5,
   "metadata": {},
   "outputs": [],
   "source": [
    "# This is the url you will scrape in this exercise\n",
    "url = 'https://github.com/trending/python?since=daily'"
   ]
  },
  {
   "cell_type": "code",
   "execution_count": 6,
   "metadata": {},
   "outputs": [
    {
     "name": "stdout",
     "output_type": "stream",
     "text": [
      "['AzeemIdrisi /      PhoneSploit-Pro', 'LAION-AI /      Open-Assistant', 'hwchase17 /      chat-langchain', 'bregman-arie /      devops-exercises', 'mindsdb /      mindsdb', 'AUTOMATIC1111 /      stable-diffusion-webui', 'Z4nzu /      hackingtool', 'geohot /      tinygrad', 'jackfrued /      Python-100-Days', 'botallen /      repository.botallen', 'ReFirmLabs /      binwalk', '521xueweihan /      HelloGitHub', 'microsoft /      restler-fuzzer', 'donnemartin /      system-design-primer', 'approximatelabs /      sketch', 'mandiant /      capa', 'vnpy /      vnpy', 'iperov /      DeepFaceLab', 'microsoft /      BioGPT', 'rawandahmad698 /      PyChatGPT', 'facebookresearch /      CutLER', 'HackSoftware /      Django-Styleguide', 'Evil0ctal /      Douyin_TikTok_Download_API', 'microsoft /      fluentui-emoji', 'rougier /      numpy-100']\n"
     ]
    }
   ],
   "source": [
    "url = 'https://github.com/trending/python?since=daily'\n",
    "\n",
    "# your code here\n",
    "\n",
    "# Extract the page content and create a BeautifulSoup object\n",
    "page = requests.get(url)\n",
    "soup = BeautifulSoup(page.content, 'html.parser')\n",
    "\n",
    "# Find the html elements that contain the repository names\n",
    "repositories = soup.find_all('h1', {'class': 'h3 lh-condensed'})\n",
    "\n",
    "# Create a list to store the cleaned names\n",
    "names = []\n",
    "\n",
    "# Iterate through the elements and clean the names\n",
    "for repository in repositories:\n",
    "    name = repository.text.strip().replace('\\n', '')\n",
    "    names.append(name)\n",
    "\n",
    "# Print the list of names\n",
    "print(names)"
   ]
  },
  {
   "cell_type": "markdown",
   "metadata": {},
   "source": [
    "#### Display all the image links from Walt Disney wikipedia page."
   ]
  },
  {
   "cell_type": "code",
   "execution_count": null,
   "metadata": {},
   "outputs": [],
   "source": [
    "# This is the url you will scrape in this exercise\n",
    "url = 'https://en.wikipedia.org/wiki/Walt_Disney'"
   ]
  },
  {
   "cell_type": "code",
   "execution_count": 7,
   "metadata": {},
   "outputs": [
    {
     "name": "stdout",
     "output_type": "stream",
     "text": [
      "['', '', '', '', 'https://avatars.githubusercontent.com/u/112647789?s=40&v=4', 'https://avatars.githubusercontent.com/u/398211?s=40&v=4', 'https://avatars.githubusercontent.com/u/858040?s=40&v=4', 'https://avatars.githubusercontent.com/u/9976399?s=40&v=4', 'https://avatars.githubusercontent.com/u/24505302?s=40&v=4', 'https://avatars.githubusercontent.com/u/2178292?s=40&v=4', 'https://avatars.githubusercontent.com/u/11986836?s=40&v=4', 'https://avatars.githubusercontent.com/u/37985796?s=40&v=4', 'https://avatars.githubusercontent.com/u/26654315?s=40&v=4', 'https://avatars.githubusercontent.com/u/10349437?s=40&v=4', 'https://avatars.githubusercontent.com/u/23431146?s=40&v=4', 'https://avatars.githubusercontent.com/u/59370927?s=40&v=4', 'https://avatars.githubusercontent.com/u/4068133?s=40&v=4', 'https://avatars.githubusercontent.com/u/23587658?s=40&v=4', 'https://avatars.githubusercontent.com/u/7192539?s=40&v=4', 'https://avatars.githubusercontent.com/u/8502631?s=40&v=4', 'https://avatars.githubusercontent.com/u/109554435?s=40&v=4', 'https://avatars.githubusercontent.com/u/20920490?s=40&v=4', 'https://avatars.githubusercontent.com/u/35278260?s=40&v=4', 'https://avatars.githubusercontent.com/u/36072735?s=40&v=4', 'https://avatars.githubusercontent.com/u/7899881?s=40&v=4', 'https://avatars.githubusercontent.com/u/7954378?s=40&v=4', 'https://avatars.githubusercontent.com/u/25708027?s=40&v=4', 'https://avatars.githubusercontent.com/u/66028078?s=40&v=4', 'https://avatars.githubusercontent.com/u/3709715?s=40&v=4', 'https://avatars.githubusercontent.com/u/59213927?s=40&v=4', 'https://avatars.githubusercontent.com/u/58102926?s=40&v=4', 'https://avatars.githubusercontent.com/u/72895?s=40&v=4', 'https://avatars.githubusercontent.com/u/65973015?s=40&v=4', 'https://avatars.githubusercontent.com/u/9826865?s=40&v=4', 'https://avatars.githubusercontent.com/u/12427907?s=40&v=4', 'https://avatars.githubusercontent.com/u/1755071?s=40&v=4', 'https://avatars.githubusercontent.com/u/7474657?s=40&v=4', 'https://avatars.githubusercontent.com/u/13017944?s=40&v=4', 'https://avatars.githubusercontent.com/u/10865729?s=40&v=4', 'https://avatars.githubusercontent.com/u/599268?s=40&v=4', 'https://avatars.githubusercontent.com/u/2331406?s=40&v=4', 'https://avatars.githubusercontent.com/u/25949138?s=40&v=4', 'https://avatars.githubusercontent.com/u/5703146?s=40&v=4', 'https://avatars.githubusercontent.com/u/21159128?s=40&v=4', 'https://avatars.githubusercontent.com/u/519283?s=40&v=4', 'https://avatars.githubusercontent.com/u/1108560?s=40&v=4', 'https://avatars.githubusercontent.com/u/878458?s=40&v=4', 'https://github.githubassets.com/images/icons/emoji/octocat.png', 'https://avatars.githubusercontent.com/u/8255800?s=40&v=4', 'https://avatars.githubusercontent.com/u/994371?s=40&v=4', 'https://avatars.githubusercontent.com/u/26538619?s=40&v=4', 'https://avatars.githubusercontent.com/u/42088872?s=40&v=4', 'https://avatars.githubusercontent.com/u/1235073?s=40&v=4', 'https://avatars.githubusercontent.com/u/19421151?s=40&v=4', 'https://avatars.githubusercontent.com/u/20483631?s=40&v=4', 'https://avatars.githubusercontent.com/u/38668851?s=40&v=4', 'https://avatars.githubusercontent.com/u/7307755?s=40&v=4', 'https://avatars.githubusercontent.com/u/85643503?s=40&v=4', 'https://avatars.githubusercontent.com/u/5458997?s=40&v=4', 'https://avatars.githubusercontent.com/u/3709715?s=40&v=4', 'https://avatars.githubusercontent.com/u/171818?s=40&v=4', 'https://avatars.githubusercontent.com/u/7440735?s=40&v=4', 'https://avatars.githubusercontent.com/u/8622362?s=40&v=4', 'https://avatars.githubusercontent.com/u/916073?s=40&v=4', 'https://avatars.githubusercontent.com/u/49702524?s=40&v=4', 'https://avatars.githubusercontent.com/u/106507309?s=40&v=4', 'https://avatars.githubusercontent.com/u/156560?s=40&v=4', 'https://avatars.githubusercontent.com/u/68270450?s=40&v=4', 'https://avatars.githubusercontent.com/u/17606537?s=40&v=4', 'https://avatars.githubusercontent.com/u/42192796?s=40&v=4', 'https://avatars.githubusercontent.com/in/29110?s=40&v=4', 'https://avatars.githubusercontent.com/u/11263900?s=40&v=4', 'https://avatars.githubusercontent.com/u/45591222?s=40&v=4', 'https://avatars.githubusercontent.com/u/6782307?s=40&v=4', 'https://avatars.githubusercontent.com/u/63988546?s=40&v=4', 'https://avatars.githubusercontent.com/u/8262951?s=40&v=4', 'https://avatars.githubusercontent.com/u/8076202?s=40&v=4', 'https://avatars.githubusercontent.com/u/36361058?s=40&v=4', 'https://avatars.githubusercontent.com/u/38731398?s=40&v=4', 'https://avatars.githubusercontent.com/u/47072419?s=40&v=4', 'https://avatars.githubusercontent.com/u/37909402?s=40&v=4', 'https://avatars.githubusercontent.com/u/8542159?s=40&v=4', 'https://avatars.githubusercontent.com/u/22527892?s=40&v=4', 'https://avatars.githubusercontent.com/u/19406683?s=40&v=4', 'https://avatars.githubusercontent.com/u/18429276?s=40&v=4', 'https://avatars.githubusercontent.com/u/46902009?s=40&v=4', 'https://avatars.githubusercontent.com/u/81195143?s=40&v=4', 'https://avatars.githubusercontent.com/u/373?s=40&v=4', 'https://avatars.githubusercontent.com/u/58996472?s=40&v=4', 'https://avatars.githubusercontent.com/u/6422482?s=40&v=4', 'https://avatars.githubusercontent.com/u/3059768?s=40&v=4', 'https://avatars.githubusercontent.com/u/387867?s=40&v=4', 'https://avatars.githubusercontent.com/u/14956725?s=40&v=4', 'https://avatars.githubusercontent.com/u/12865325?s=40&v=4', 'https://avatars.githubusercontent.com/u/12683214?s=40&v=4', 'https://avatars.githubusercontent.com/u/13856515?s=40&v=4', 'https://avatars.githubusercontent.com/u/20760448?s=40&v=4', 'https://avatars.githubusercontent.com/in/15368?s=40&v=4', 'https://avatars.githubusercontent.com/u/48782751?s=40&v=4', 'https://avatars.githubusercontent.com/u/37983202?s=40&v=4', 'https://avatars.githubusercontent.com/u/18467476?s=40&v=4', 'https://avatars.githubusercontent.com/u/98856968?s=40&v=4', 'https://avatars.githubusercontent.com/u/20647412?s=40&v=4', 'https://avatars.githubusercontent.com/u/22527892?s=40&v=4', 'https://avatars.githubusercontent.com/u/16262858?s=40&v=4', 'https://avatars.githubusercontent.com/u/53240053?s=40&v=4', 'https://avatars.githubusercontent.com/u/327203?s=40&v=4', 'https://avatars.githubusercontent.com/u/8709755?s=40&v=4', 'https://avatars.githubusercontent.com/u/8191570?s=40&v=4', 'https://avatars.githubusercontent.com/u/15230238?s=40&v=4', 'https://avatars.githubusercontent.com/u/33573717?s=40&v=4']\n"
     ]
    }
   ],
   "source": [
    "import requests\n",
    "from bs4 import BeautifulSoup\n",
    "\n",
    "# Extract the page content and create a BeautifulSoup object\n",
    "page = requests.get(url)\n",
    "soup = BeautifulSoup(page.content, 'html.parser')\n",
    "\n",
    "# Find the image tags\n",
    "images = soup.find_all('img')\n",
    "\n",
    "# Extract the src attribute of each image tag to get the image link\n",
    "image_links = [image['src'] for image in images]\n",
    "\n",
    "print(image_links)"
   ]
  },
  {
   "cell_type": "markdown",
   "metadata": {},
   "source": [
    "#### Retrieve an arbitary Wikipedia page of \"Python\" and create a list of links on that page."
   ]
  },
  {
   "cell_type": "code",
   "execution_count": null,
   "metadata": {},
   "outputs": [],
   "source": [
    "# This is the url you will scrape in this exercise\n",
    "url ='https://en.wikipedia.org/wiki/Python' "
   ]
  },
  {
   "cell_type": "code",
   "execution_count": 8,
   "metadata": {},
   "outputs": [
    {
     "name": "stdout",
     "output_type": "stream",
     "text": [
      "['#start-of-content', 'https://github.com/', '/signup?ref_cta=Sign+up&ref_loc=header+logged+out&ref_page=%2Ftrending%2Fpython&source=header', '/features/actions', '/features/packages', '/features/security', '/features/codespaces', '/features/copilot', '/features/code-review', '/features/issues', '/features/discussions', '/features', 'https://docs.github.com', 'https://skills.github.com/', 'https://github.blog', '/enterprise', '/team', '/enterprise/startups', 'https://education.github.com', '/solutions/ci-cd/', 'https://resources.github.com/devops/', 'https://resources.github.com/devops/fundamentals/devsecops/', '/customer-stories', 'https://resources.github.com/', '/sponsors', '/readme', '/topics', '/trending', '/collections', '/pricing', '', '', '', '', '/login?return_to=https%3A%2F%2Fgithub.com%2Ftrending%2Fpython%3Fsince%3Ddaily', '/signup?ref_cta=Sign+up&ref_loc=header+logged+out&ref_page=%2Ftrending%2Fpython&source=header', '/explore', '/topics', '/trending', '/collections', '/events', '/sponsors/explore', '/explore/email', '/trending', '/trending/developers', '/trending/python?since=daily&spoken_language_code=ab', '/trending/python?since=daily&spoken_language_code=aa', '/trending/python?since=daily&spoken_language_code=af', '/trending/python?since=daily&spoken_language_code=ak', '/trending/python?since=daily&spoken_language_code=sq', '/trending/python?since=daily&spoken_language_code=am', '/trending/python?since=daily&spoken_language_code=ar', '/trending/python?since=daily&spoken_language_code=an', '/trending/python?since=daily&spoken_language_code=hy', '/trending/python?since=daily&spoken_language_code=as', '/trending/python?since=daily&spoken_language_code=av', '/trending/python?since=daily&spoken_language_code=ae', '/trending/python?since=daily&spoken_language_code=ay', '/trending/python?since=daily&spoken_language_code=az', '/trending/python?since=daily&spoken_language_code=bm', '/trending/python?since=daily&spoken_language_code=ba', '/trending/python?since=daily&spoken_language_code=eu', '/trending/python?since=daily&spoken_language_code=be', '/trending/python?since=daily&spoken_language_code=bn', '/trending/python?since=daily&spoken_language_code=bh', '/trending/python?since=daily&spoken_language_code=bi', '/trending/python?since=daily&spoken_language_code=bs', '/trending/python?since=daily&spoken_language_code=br', '/trending/python?since=daily&spoken_language_code=bg', '/trending/python?since=daily&spoken_language_code=my', '/trending/python?since=daily&spoken_language_code=ca', '/trending/python?since=daily&spoken_language_code=ch', '/trending/python?since=daily&spoken_language_code=ce', '/trending/python?since=daily&spoken_language_code=ny', '/trending/python?since=daily&spoken_language_code=zh', '/trending/python?since=daily&spoken_language_code=cv', '/trending/python?since=daily&spoken_language_code=kw', '/trending/python?since=daily&spoken_language_code=co', '/trending/python?since=daily&spoken_language_code=cr', '/trending/python?since=daily&spoken_language_code=hr', '/trending/python?since=daily&spoken_language_code=cs', '/trending/python?since=daily&spoken_language_code=da', '/trending/python?since=daily&spoken_language_code=dv', '/trending/python?since=daily&spoken_language_code=nl', '/trending/python?since=daily&spoken_language_code=dz', '/trending/python?since=daily&spoken_language_code=en', '/trending/python?since=daily&spoken_language_code=eo', '/trending/python?since=daily&spoken_language_code=et', '/trending/python?since=daily&spoken_language_code=ee', '/trending/python?since=daily&spoken_language_code=fo', '/trending/python?since=daily&spoken_language_code=fj', '/trending/python?since=daily&spoken_language_code=fi', '/trending/python?since=daily&spoken_language_code=fr', '/trending/python?since=daily&spoken_language_code=ff', '/trending/python?since=daily&spoken_language_code=gl', '/trending/python?since=daily&spoken_language_code=ka', '/trending/python?since=daily&spoken_language_code=de', '/trending/python?since=daily&spoken_language_code=el', '/trending/python?since=daily&spoken_language_code=gn', '/trending/python?since=daily&spoken_language_code=gu', '/trending/python?since=daily&spoken_language_code=ht', '/trending/python?since=daily&spoken_language_code=ha', '/trending/python?since=daily&spoken_language_code=he', '/trending/python?since=daily&spoken_language_code=hz', '/trending/python?since=daily&spoken_language_code=hi', '/trending/python?since=daily&spoken_language_code=ho', '/trending/python?since=daily&spoken_language_code=hu', '/trending/python?since=daily&spoken_language_code=ia', '/trending/python?since=daily&spoken_language_code=id', '/trending/python?since=daily&spoken_language_code=ie', '/trending/python?since=daily&spoken_language_code=ga', '/trending/python?since=daily&spoken_language_code=ig', '/trending/python?since=daily&spoken_language_code=ik', '/trending/python?since=daily&spoken_language_code=io', '/trending/python?since=daily&spoken_language_code=is', '/trending/python?since=daily&spoken_language_code=it', '/trending/python?since=daily&spoken_language_code=iu', '/trending/python?since=daily&spoken_language_code=ja', '/trending/python?since=daily&spoken_language_code=jv', '/trending/python?since=daily&spoken_language_code=kl', '/trending/python?since=daily&spoken_language_code=kn', '/trending/python?since=daily&spoken_language_code=kr', '/trending/python?since=daily&spoken_language_code=ks', '/trending/python?since=daily&spoken_language_code=kk', '/trending/python?since=daily&spoken_language_code=km', '/trending/python?since=daily&spoken_language_code=ki', '/trending/python?since=daily&spoken_language_code=rw', '/trending/python?since=daily&spoken_language_code=ky', '/trending/python?since=daily&spoken_language_code=kv', '/trending/python?since=daily&spoken_language_code=kg', '/trending/python?since=daily&spoken_language_code=ko', '/trending/python?since=daily&spoken_language_code=ku', '/trending/python?since=daily&spoken_language_code=kj', '/trending/python?since=daily&spoken_language_code=la', '/trending/python?since=daily&spoken_language_code=lb', '/trending/python?since=daily&spoken_language_code=lg', '/trending/python?since=daily&spoken_language_code=li', '/trending/python?since=daily&spoken_language_code=ln', '/trending/python?since=daily&spoken_language_code=lo', '/trending/python?since=daily&spoken_language_code=lt', '/trending/python?since=daily&spoken_language_code=lu', '/trending/python?since=daily&spoken_language_code=lv', '/trending/python?since=daily&spoken_language_code=gv', '/trending/python?since=daily&spoken_language_code=mk', '/trending/python?since=daily&spoken_language_code=mg', '/trending/python?since=daily&spoken_language_code=ms', '/trending/python?since=daily&spoken_language_code=ml', '/trending/python?since=daily&spoken_language_code=mt', '/trending/python?since=daily&spoken_language_code=mi', '/trending/python?since=daily&spoken_language_code=mr', '/trending/python?since=daily&spoken_language_code=mh', '/trending/python?since=daily&spoken_language_code=mn', '/trending/python?since=daily&spoken_language_code=na', '/trending/python?since=daily&spoken_language_code=nv', '/trending/python?since=daily&spoken_language_code=nd', '/trending/python?since=daily&spoken_language_code=ne', '/trending/python?since=daily&spoken_language_code=ng', '/trending/python?since=daily&spoken_language_code=nb', '/trending/python?since=daily&spoken_language_code=nn', '/trending/python?since=daily&spoken_language_code=no', '/trending/python?since=daily&spoken_language_code=ii', '/trending/python?since=daily&spoken_language_code=nr', '/trending/python?since=daily&spoken_language_code=oc', '/trending/python?since=daily&spoken_language_code=oj', '/trending/python?since=daily&spoken_language_code=cu', '/trending/python?since=daily&spoken_language_code=om', '/trending/python?since=daily&spoken_language_code=or', '/trending/python?since=daily&spoken_language_code=os', '/trending/python?since=daily&spoken_language_code=pa', '/trending/python?since=daily&spoken_language_code=pi', '/trending/python?since=daily&spoken_language_code=fa', '/trending/python?since=daily&spoken_language_code=pl', '/trending/python?since=daily&spoken_language_code=ps', '/trending/python?since=daily&spoken_language_code=pt', '/trending/python?since=daily&spoken_language_code=qu', '/trending/python?since=daily&spoken_language_code=rm', '/trending/python?since=daily&spoken_language_code=rn', '/trending/python?since=daily&spoken_language_code=ro', '/trending/python?since=daily&spoken_language_code=ru', '/trending/python?since=daily&spoken_language_code=sa', '/trending/python?since=daily&spoken_language_code=sc', '/trending/python?since=daily&spoken_language_code=sd', '/trending/python?since=daily&spoken_language_code=se', '/trending/python?since=daily&spoken_language_code=sm', '/trending/python?since=daily&spoken_language_code=sg', '/trending/python?since=daily&spoken_language_code=sr', '/trending/python?since=daily&spoken_language_code=gd', '/trending/python?since=daily&spoken_language_code=sn', '/trending/python?since=daily&spoken_language_code=si', '/trending/python?since=daily&spoken_language_code=sk', '/trending/python?since=daily&spoken_language_code=sl', '/trending/python?since=daily&spoken_language_code=so', '/trending/python?since=daily&spoken_language_code=st', '/trending/python?since=daily&spoken_language_code=es', '/trending/python?since=daily&spoken_language_code=su', '/trending/python?since=daily&spoken_language_code=sw', '/trending/python?since=daily&spoken_language_code=ss', '/trending/python?since=daily&spoken_language_code=sv', '/trending/python?since=daily&spoken_language_code=ta', '/trending/python?since=daily&spoken_language_code=te', '/trending/python?since=daily&spoken_language_code=tg', '/trending/python?since=daily&spoken_language_code=th', '/trending/python?since=daily&spoken_language_code=ti', '/trending/python?since=daily&spoken_language_code=bo', '/trending/python?since=daily&spoken_language_code=tk', '/trending/python?since=daily&spoken_language_code=tl', '/trending/python?since=daily&spoken_language_code=tn', '/trending/python?since=daily&spoken_language_code=to', '/trending/python?since=daily&spoken_language_code=tr', '/trending/python?since=daily&spoken_language_code=ts', '/trending/python?since=daily&spoken_language_code=tt', '/trending/python?since=daily&spoken_language_code=tw', '/trending/python?since=daily&spoken_language_code=ty', '/trending/python?since=daily&spoken_language_code=ug', '/trending/python?since=daily&spoken_language_code=uk', '/trending/python?since=daily&spoken_language_code=ur', '/trending/python?since=daily&spoken_language_code=uz', '/trending/python?since=daily&spoken_language_code=ve', '/trending/python?since=daily&spoken_language_code=vi', '/trending/python?since=daily&spoken_language_code=vo', '/trending/python?since=daily&spoken_language_code=wa', '/trending/python?since=daily&spoken_language_code=cy', '/trending/python?since=daily&spoken_language_code=wo', '/trending/python?since=daily&spoken_language_code=fy', '/trending/python?since=daily&spoken_language_code=xh', '/trending/python?since=daily&spoken_language_code=yi', '/trending/python?since=daily&spoken_language_code=yo', '/trending/python?since=daily&spoken_language_code=za', '/trending/python?since=daily&spoken_language_code=zu', '/trending?since=daily', '/trending/unknown?since=daily', '/trending/1c-enterprise?since=daily', '/trending/2-dimensional-array?since=daily', '/trending/4d?since=daily', '/trending/abap?since=daily', '/trending/abap-cds?since=daily', '/trending/abnf?since=daily', '/trending/actionscript?since=daily', '/trending/ada?since=daily', '/trending/adblock-filter-list?since=daily', '/trending/adobe-font-metrics?since=daily', '/trending/agda?since=daily', '/trending/ags-script?since=daily', '/trending/aidl?since=daily', '/trending/al?since=daily', '/trending/alloy?since=daily', '/trending/alpine-abuild?since=daily', '/trending/altium-designer?since=daily', '/trending/ampl?since=daily', '/trending/angelscript?since=daily', '/trending/ant-build-system?since=daily', '/trending/antlers?since=daily', '/trending/antlr?since=daily', '/trending/apacheconf?since=daily', '/trending/apex?since=daily', '/trending/api-blueprint?since=daily', '/trending/apl?since=daily', '/trending/apollo-guidance-computer?since=daily', '/trending/applescript?since=daily', '/trending/arc?since=daily', '/trending/asciidoc?since=daily', '/trending/asl?since=daily', '/trending/asn.1?since=daily', '/trending/classic-asp?since=daily', '/trending/asp.net?since=daily', '/trending/aspectj?since=daily', '/trending/assembly?since=daily', '/trending/astro?since=daily', '/trending/asymptote?since=daily', '/trending/ats?since=daily', '/trending/augeas?since=daily', '/trending/autohotkey?since=daily', '/trending/autoit?since=daily', '/trending/avro-idl?since=daily', '/trending/awk?since=daily', '/trending/ballerina?since=daily', '/trending/basic?since=daily', '/trending/batchfile?since=daily', '/trending/beef?since=daily', '/trending/befunge?since=daily', '/trending/berry?since=daily', '/trending/bibtex?since=daily', '/trending/bicep?since=daily', '/trending/bikeshed?since=daily', '/trending/bison?since=daily', '/trending/bitbake?since=daily', '/trending/blade?since=daily', '/trending/blitzbasic?since=daily', '/trending/blitzmax?since=daily', '/trending/bluespec?since=daily', '/trending/boo?since=daily', '/trending/boogie?since=daily', '/trending/brainfuck?since=daily', '/trending/brighterscript?since=daily', '/trending/brightscript?since=daily', '/trending/zeek?since=daily', '/trending/browserslist?since=daily', '/trending/c?since=daily', '/trending/c%23?since=daily', '/trending/c++?since=daily', '/trending/c-objdump?since=daily', '/trending/c2hs-haskell?since=daily', '/trending/cabal-config?since=daily', '/trending/cadence?since=daily', '/trending/cairo?since=daily', '/trending/cameligo?since=daily', '/trending/cap-cds?since=daily', \"/trending/cap'n-proto?since=daily\", '/trending/cartocss?since=daily', '/trending/ceylon?since=daily', '/trending/chapel?since=daily', '/trending/charity?since=daily', '/trending/checksums?since=daily', '/trending/chuck?since=daily', '/trending/cil?since=daily', '/trending/cirru?since=daily', '/trending/clarion?since=daily', '/trending/clarity?since=daily', '/trending/classic-asp?since=daily', '/trending/clean?since=daily', '/trending/click?since=daily', '/trending/clips?since=daily', '/trending/clojure?since=daily', '/trending/closure-templates?since=daily', '/trending/cloud-firestore-security-rules?since=daily', '/trending/cmake?since=daily', '/trending/cobol?since=daily', '/trending/codeowners?since=daily', '/trending/codeql?since=daily', '/trending/coffeescript?since=daily', '/trending/coldfusion?since=daily', '/trending/coldfusion-cfc?since=daily', '/trending/collada?since=daily', '/trending/common-lisp?since=daily', '/trending/common-workflow-language?since=daily', '/trending/component-pascal?since=daily', '/trending/conll-u?since=daily', '/trending/cool?since=daily', '/trending/coq?since=daily', '/trending/cpp-objdump?since=daily', '/trending/creole?since=daily', '/trending/crystal?since=daily', '/trending/cson?since=daily', '/trending/csound?since=daily', '/trending/csound-document?since=daily', '/trending/csound-score?since=daily', '/trending/css?since=daily', '/trending/csv?since=daily', '/trending/cuda?since=daily', '/trending/cue?since=daily', '/trending/cue-sheet?since=daily', '/trending/curl-config?since=daily', '/trending/curry?since=daily', '/trending/cweb?since=daily', '/trending/cycript?since=daily', '/trending/cypher?since=daily', '/trending/cython?since=daily', '/trending/d?since=daily', '/trending/d-objdump?since=daily', '/trending/dafny?since=daily', '/trending/darcs-patch?since=daily', '/trending/dart?since=daily', '/trending/dataweave?since=daily', '/trending/debian-package-control-file?since=daily', '/trending/denizenscript?since=daily', '/trending/desktop?since=daily', '/trending/dhall?since=daily', '/trending/diff?since=daily', '/trending/digital-command-language?since=daily', '/trending/dircolors?since=daily', '/trending/directx-3d-file?since=daily', '/trending/dm?since=daily', '/trending/dns-zone?since=daily', '/trending/dockerfile?since=daily', '/trending/dogescript?since=daily', '/trending/dtrace?since=daily', '/trending/dylan?since=daily', '/trending/e?since=daily', '/trending/e-mail?since=daily', '/trending/eagle?since=daily', '/trending/earthly?since=daily', '/trending/easybuild?since=daily', '/trending/ebnf?since=daily', '/trending/ec?since=daily', '/trending/ecere-projects?since=daily', '/trending/ecl?since=daily', '/trending/eclipse?since=daily', '/trending/ecmarkup?since=daily', '/trending/editorconfig?since=daily', '/trending/edje-data-collection?since=daily', '/trending/edn?since=daily', '/trending/eiffel?since=daily', '/trending/ejs?since=daily', '/trending/elixir?since=daily', '/trending/elm?since=daily', '/trending/elvish?since=daily', '/trending/emacs-lisp?since=daily', '/trending/emberscript?since=daily', '/trending/e-mail?since=daily', '/trending/eq?since=daily', '/trending/erlang?since=daily', '/trending/euphoria?since=daily', '/trending/f%23?since=daily', '/trending/f*?since=daily', '/trending/factor?since=daily', '/trending/fancy?since=daily', '/trending/fantom?since=daily', '/trending/faust?since=daily', '/trending/fennel?since=daily', '/trending/figlet-font?since=daily', '/trending/filebench-wml?since=daily', '/trending/filterscript?since=daily', '/trending/fish?since=daily', '/trending/fluent?since=daily', '/trending/flux?since=daily', '/trending/formatted?since=daily', '/trending/forth?since=daily', '/trending/fortran?since=daily', '/trending/fortran-free-form?since=daily', '/trending/freebasic?since=daily', '/trending/freemarker?since=daily', '/trending/frege?since=daily', '/trending/futhark?since=daily', '/trending/g-code?since=daily', '/trending/game-maker-language?since=daily', '/trending/gaml?since=daily', '/trending/gams?since=daily', '/trending/gap?since=daily', '/trending/gcc-machine-description?since=daily', '/trending/gdb?since=daily', '/trending/gdscript?since=daily', '/trending/gedcom?since=daily', '/trending/gemfile.lock?since=daily', '/trending/gemini?since=daily', '/trending/genero?since=daily', '/trending/genero-forms?since=daily', '/trending/genie?since=daily', '/trending/genshi?since=daily', '/trending/gentoo-ebuild?since=daily', '/trending/gentoo-eclass?since=daily', '/trending/gerber-image?since=daily', '/trending/gettext-catalog?since=daily', '/trending/gherkin?since=daily', '/trending/git-attributes?since=daily', '/trending/git-config?since=daily', '/trending/git-revision-list?since=daily', '/trending/gleam?since=daily', '/trending/glsl?since=daily', '/trending/glyph?since=daily', '/trending/glyph-bitmap-distribution-format?since=daily', '/trending/gn?since=daily', '/trending/gnuplot?since=daily', '/trending/go?since=daily', '/trending/go-checksums?since=daily', '/trending/go-module?since=daily', '/trending/golo?since=daily', '/trending/gosu?since=daily', '/trending/grace?since=daily', '/trending/gradle?since=daily', '/trending/grammatical-framework?since=daily', '/trending/graph-modeling-language?since=daily', '/trending/graphql?since=daily', '/trending/graphviz-(dot)?since=daily', '/trending/groovy?since=daily', '/trending/groovy-server-pages?since=daily', '/trending/gsc?since=daily', '/trending/hack?since=daily', '/trending/haml?since=daily', '/trending/handlebars?since=daily', '/trending/haproxy?since=daily', '/trending/harbour?since=daily', '/trending/haskell?since=daily', '/trending/haxe?since=daily', '/trending/hcl?since=daily', '/trending/hiveql?since=daily', '/trending/hlsl?since=daily', '/trending/hocon?since=daily', '/trending/holyc?since=daily', '/trending/hoon?since=daily', '/trending/html?since=daily', '/trending/jinja?since=daily', '/trending/html+ecr?since=daily', '/trending/html+eex?since=daily', '/trending/html+erb?since=daily', '/trending/html+php?since=daily', '/trending/html+razor?since=daily', '/trending/http?since=daily', '/trending/hxml?since=daily', '/trending/hy?since=daily', '/trending/hyphy?since=daily', '/trending/idl?since=daily', '/trending/idris?since=daily', '/trending/ignore-list?since=daily', '/trending/igor-pro?since=daily', '/trending/imagej-macro?since=daily', '/trending/imba?since=daily', '/trending/inform-7?since=daily', '/trending/ini?since=daily', '/trending/ink?since=daily', '/trending/inno-setup?since=daily', '/trending/io?since=daily', '/trending/ioke?since=daily', '/trending/irc-log?since=daily', '/trending/isabelle?since=daily', '/trending/isabelle-root?since=daily', '/trending/j?since=daily', '/trending/janet?since=daily', '/trending/jar-manifest?since=daily', '/trending/jasmin?since=daily', '/trending/java?since=daily', '/trending/java-properties?since=daily', '/trending/java-server-pages?since=daily', '/trending/javascript?since=daily', '/trending/javascript+erb?since=daily', '/trending/jest-snapshot?since=daily', '/trending/jetbrains-mps?since=daily', '/trending/jflex?since=daily', '/trending/jinja?since=daily', '/trending/jison?since=daily', '/trending/jison-lex?since=daily', '/trending/jolie?since=daily', '/trending/jq?since=daily', '/trending/json?since=daily', '/trending/json-with-comments?since=daily', '/trending/json5?since=daily', '/trending/jsoniq?since=daily', '/trending/jsonld?since=daily', '/trending/jsonnet?since=daily', '/trending/julia?since=daily', '/trending/jupyter-notebook?since=daily', '/trending/just?since=daily', '/trending/kaitai-struct?since=daily', '/trending/kakounescript?since=daily', '/trending/kicad-layout?since=daily', '/trending/kicad-legacy-layout?since=daily', '/trending/kicad-schematic?since=daily', '/trending/kit?since=daily', '/trending/kotlin?since=daily', '/trending/krl?since=daily', '/trending/kusto?since=daily', '/trending/kvlang?since=daily', '/trending/labview?since=daily', '/trending/lark?since=daily', '/trending/lasso?since=daily', '/trending/latte?since=daily', '/trending/lean?since=daily', '/trending/less?since=daily', '/trending/lex?since=daily', '/trending/lfe?since=daily', '/trending/ligolang?since=daily', '/trending/lilypond?since=daily', '/trending/limbo?since=daily', '/trending/linker-script?since=daily', '/trending/linux-kernel-module?since=daily', '/trending/liquid?since=daily', '/trending/literate-agda?since=daily', '/trending/literate-coffeescript?since=daily', '/trending/literate-haskell?since=daily', '/trending/livescript?since=daily', '/trending/llvm?since=daily', '/trending/logos?since=daily', '/trending/logtalk?since=daily', '/trending/lolcode?since=daily', '/trending/lookml?since=daily', '/trending/loomscript?since=daily', '/trending/lsl?since=daily', '/trending/ltspice-symbol?since=daily', '/trending/lua?since=daily', '/trending/m?since=daily', '/trending/m4?since=daily', '/trending/m4sugar?since=daily', '/trending/macaulay2?since=daily', '/trending/makefile?since=daily', '/trending/mako?since=daily', '/trending/markdown?since=daily', '/trending/marko?since=daily', '/trending/mask?since=daily', '/trending/mathematica?since=daily', '/trending/matlab?since=daily', '/trending/maven-pom?since=daily', '/trending/max?since=daily', '/trending/maxscript?since=daily', '/trending/mcfunction?since=daily', '/trending/wikitext?since=daily', '/trending/mercury?since=daily', '/trending/mermaid?since=daily', '/trending/meson?since=daily', '/trending/metal?since=daily', '/trending/microsoft-developer-studio-project?since=daily', '/trending/microsoft-visual-studio-solution?since=daily', '/trending/minid?since=daily', '/trending/miniyaml?since=daily', '/trending/mint?since=daily', '/trending/mirah?since=daily', '/trending/mirc-script?since=daily', '/trending/mlir?since=daily', '/trending/modelica?since=daily', '/trending/modula-2?since=daily', '/trending/modula-3?since=daily', '/trending/module-management-system?since=daily', '/trending/monkey?since=daily', '/trending/monkey-c?since=daily', '/trending/moocode?since=daily', '/trending/moonscript?since=daily', '/trending/motoko?since=daily', '/trending/motorola-68k-assembly?since=daily', '/trending/move?since=daily', '/trending/mql4?since=daily', '/trending/mql5?since=daily', '/trending/mtml?since=daily', '/trending/muf?since=daily', '/trending/mupad?since=daily', '/trending/muse?since=daily', '/trending/mustache?since=daily', '/trending/myghty?since=daily', '/trending/nanorc?since=daily', '/trending/nasal?since=daily', '/trending/nasl?since=daily', '/trending/ncl?since=daily', '/trending/nearley?since=daily', '/trending/nemerle?since=daily', '/trending/neon?since=daily', '/trending/nesc?since=daily', '/trending/netlinx?since=daily', '/trending/netlinx+erb?since=daily', '/trending/netlogo?since=daily', '/trending/newlisp?since=daily', '/trending/nextflow?since=daily', '/trending/nginx?since=daily', '/trending/nim?since=daily', '/trending/ninja?since=daily', '/trending/nit?since=daily', '/trending/nix?since=daily', '/trending/nl?since=daily', '/trending/npm-config?since=daily', '/trending/nsis?since=daily', '/trending/nu?since=daily', '/trending/numpy?since=daily', '/trending/nunjucks?since=daily', '/trending/nwscript?since=daily', '/trending/oasv2-json?since=daily', '/trending/oasv2-yaml?since=daily', '/trending/oasv3-json?since=daily', '/trending/oasv3-yaml?since=daily', '/trending/objdump?since=daily', '/trending/object-data-instance-notation?since=daily', '/trending/objective-c?since=daily', '/trending/objective-c++?since=daily', '/trending/objective-j?since=daily', '/trending/objectscript?since=daily', '/trending/ocaml?since=daily', '/trending/odin?since=daily', '/trending/omgrofl?since=daily', '/trending/ooc?since=daily', '/trending/opa?since=daily', '/trending/opal?since=daily', '/trending/open-policy-agent?since=daily', '/trending/openapi-specification-v2?since=daily', '/trending/openapi-specification-v3?since=daily', '/trending/opencl?since=daily', '/trending/openedge-abl?since=daily', '/trending/openqasm?since=daily', '/trending/openrc-runscript?since=daily', '/trending/openscad?since=daily', '/trending/openstep-property-list?since=daily', '/trending/opentype-feature-file?since=daily', '/trending/option-list?since=daily', '/trending/org?since=daily', '/trending/ox?since=daily', '/trending/oxygene?since=daily', '/trending/oz?since=daily', '/trending/p4?since=daily', '/trending/pan?since=daily', '/trending/papyrus?since=daily', '/trending/parrot?since=daily', '/trending/parrot-assembly?since=daily', '/trending/parrot-internal-representation?since=daily', '/trending/pascal?since=daily', '/trending/pawn?since=daily', '/trending/pddl?since=daily', '/trending/peg.js?since=daily', '/trending/pep8?since=daily', '/trending/perl?since=daily', '/trending/php?since=daily', '/trending/pic?since=daily', '/trending/pickle?since=daily', '/trending/picolisp?since=daily', '/trending/piglatin?since=daily', '/trending/pike?since=daily', '/trending/plantuml?since=daily', '/trending/plpgsql?since=daily', '/trending/plsql?since=daily', '/trending/pod?since=daily', '/trending/pod-6?since=daily', '/trending/pogoscript?since=daily', '/trending/polar?since=daily', '/trending/pony?since=daily', '/trending/portugol?since=daily', '/trending/postcss?since=daily', '/trending/postscript?since=daily', '/trending/pov-ray-sdl?since=daily', '/trending/powerbuilder?since=daily', '/trending/powershell?since=daily', '/trending/prisma?since=daily', '/trending/processing?since=daily', '/trending/procfile?since=daily', '/trending/proguard?since=daily', '/trending/prolog?since=daily', '/trending/promela?since=daily', '/trending/propeller-spin?since=daily', '/trending/protocol-buffer?since=daily', '/trending/protocol-buffer-text-format?since=daily', '/trending/public-key?since=daily', '/trending/pug?since=daily', '/trending/puppet?since=daily', '/trending/pure-data?since=daily', '/trending/purebasic?since=daily', '/trending/purescript?since=daily', '/trending?since=daily', '/trending/python-console?since=daily', '/trending/python-traceback?since=daily', '/trending/q?since=daily', '/trending/q%23?since=daily', '/trending/qmake?since=daily', '/trending/qml?since=daily', '/trending/qt-script?since=daily', '/trending/quake?since=daily', '/trending/r?since=daily', '/trending/racket?since=daily', '/trending/ragel?since=daily', '/trending/raku?since=daily', '/trending/raml?since=daily', '/trending/rascal?since=daily', '/trending/raw-token-data?since=daily', '/trending/rdoc?since=daily', '/trending/readline-config?since=daily', '/trending/realbasic?since=daily', '/trending/reason?since=daily', '/trending/reasonligo?since=daily', '/trending/rebol?since=daily', '/trending/record-jar?since=daily', '/trending/red?since=daily', '/trending/redcode?since=daily', '/trending/redirect-rules?since=daily', '/trending/regular-expression?since=daily', \"/trending/ren'py?since=daily\", '/trending/renderscript?since=daily', '/trending/rescript?since=daily', '/trending/restructuredtext?since=daily', '/trending/rexx?since=daily', '/trending/rich-text-format?since=daily', '/trending/ring?since=daily', '/trending/riot?since=daily', '/trending/rmarkdown?since=daily', '/trending/robotframework?since=daily', '/trending/robots.txt?since=daily', '/trending/roff?since=daily', '/trending/roff-manpage?since=daily', '/trending/rouge?since=daily', '/trending/routeros-script?since=daily', '/trending/rpc?since=daily', '/trending/rpgle?since=daily', '/trending/rpm-spec?since=daily', '/trending/ruby?since=daily', '/trending/runoff?since=daily', '/trending/rust?since=daily', '/trending/sage?since=daily', '/trending/saltstack?since=daily', '/trending/sas?since=daily', '/trending/sass?since=daily', '/trending/scala?since=daily', '/trending/scaml?since=daily', '/trending/scenic?since=daily', '/trending/scheme?since=daily', '/trending/scilab?since=daily', '/trending/scss?since=daily', '/trending/sed?since=daily', '/trending/self?since=daily', '/trending/selinux-policy?since=daily', '/trending/shaderlab?since=daily', '/trending/shell?since=daily', '/trending/shellcheck-config?since=daily', '/trending/shellsession?since=daily', '/trending/shen?since=daily', '/trending/sieve?since=daily', '/trending/simple-file-verification?since=daily', '/trending/singularity?since=daily', '/trending/slash?since=daily', '/trending/slice?since=daily', '/trending/slim?since=daily', '/trending/smali?since=daily', '/trending/smalltalk?since=daily', '/trending/smarty?since=daily', '/trending/smithy?since=daily', '/trending/smpl?since=daily', '/trending/smt?since=daily', '/trending/solidity?since=daily', '/trending/soong?since=daily', '/trending/sourcepawn?since=daily', '/trending/sparql?since=daily', '/trending/spline-font-database?since=daily', '/trending/sqf?since=daily', '/trending/sql?since=daily', '/trending/sqlpl?since=daily', '/trending/squirrel?since=daily', '/trending/srecode-template?since=daily', '/trending/ssh-config?since=daily', '/trending/stan?since=daily', '/trending/standard-ml?since=daily', '/trending/star?since=daily', '/trending/starlark?since=daily', '/trending/stata?since=daily', '/trending/stl?since=daily', '/trending/ston?since=daily', '/trending/stringtemplate?since=daily', '/trending/stylus?since=daily', '/trending/subrip-text?since=daily', '/trending/sugarss?since=daily', '/trending/supercollider?since=daily', '/trending/svelte?since=daily', '/trending/svg?since=daily', '/trending/swift?since=daily', '/trending/swig?since=daily', '/trending/systemverilog?since=daily', '/trending/talon?since=daily', '/trending/tcl?since=daily', '/trending/tcsh?since=daily', '/trending/tea?since=daily', '/trending/terra?since=daily', '/trending/tex?since=daily', '/trending/texinfo?since=daily', '/trending/text?since=daily', '/trending/textile?since=daily', '/trending/textmate-properties?since=daily', '/trending/thrift?since=daily', '/trending/ti-program?since=daily', '/trending/tla?since=daily', '/trending/toml?since=daily', '/trending/tsql?since=daily', '/trending/tsv?since=daily', '/trending/tsx?since=daily', '/trending/turing?since=daily', '/trending/turtle?since=daily', '/trending/twig?since=daily', '/trending/txl?since=daily', '/trending/type-language?since=daily', '/trending/typescript?since=daily', '/trending/unified-parallel-c?since=daily', '/trending/unity3d-asset?since=daily', '/trending/unix-assembly?since=daily', '/trending/uno?since=daily', '/trending/unrealscript?since=daily', '/trending/urweb?since=daily', '/trending/v?since=daily', '/trending/vala?since=daily', '/trending/valve-data-format?since=daily', '/trending/vba?since=daily', '/trending/vbscript?since=daily', '/trending/vcl?since=daily', '/trending/velocity-template-language?since=daily', '/trending/verilog?since=daily', '/trending/vhdl?since=daily', '/trending/vim-help-file?since=daily', '/trending/vim-script?since=daily', '/trending/vim-snippet?since=daily', '/trending/visual-basic-.net?since=daily', '/trending/visual-basic-.net?since=daily', '/trending/visual-basic-6.0?since=daily', '/trending/volt?since=daily', '/trending/vue?since=daily', '/trending/vyper?since=daily', '/trending/wavefront-material?since=daily', '/trending/wavefront-object?since=daily', '/trending/wdl?since=daily', '/trending/web-ontology-language?since=daily', '/trending/webassembly?since=daily', '/trending/webidl?since=daily', '/trending/webvtt?since=daily', '/trending/wget-config?since=daily', '/trending/whiley?since=daily', '/trending/wikitext?since=daily', '/trending/win32-message-file?since=daily', '/trending/windows-registry-entries?since=daily', '/trending/wisp?since=daily', '/trending/witcher-script?since=daily', '/trending/wollok?since=daily', '/trending/world-of-warcraft-addon-data?since=daily', '/trending/wren?since=daily', '/trending/x-bitmap?since=daily', '/trending/x-font-directory-index?since=daily', '/trending/x-pixmap?since=daily', '/trending/x10?since=daily', '/trending/xbase?since=daily', '/trending/xc?since=daily', '/trending/xcompose?since=daily', '/trending/xml?since=daily', '/trending/xml-property-list?since=daily', '/trending/xojo?since=daily', '/trending/xonsh?since=daily', '/trending/xpages?since=daily', '/trending/xproc?since=daily', '/trending/xquery?since=daily', '/trending/xs?since=daily', '/trending/xslt?since=daily', '/trending/xtend?since=daily', '/trending/yacc?since=daily', '/trending/yaml?since=daily', '/trending/yang?since=daily', '/trending/yara?since=daily', '/trending/yasnippet?since=daily', '/trending/yul?since=daily', '/trending/zap?since=daily', '/trending/zeek?since=daily', '/trending/zenscript?since=daily', '/trending/zephir?since=daily', '/trending/zig?since=daily', '/trending/zil?since=daily', '/trending/zimpl?since=daily', 'https://github.com/trending/python?since=daily', 'https://github.com/trending/python?since=weekly', 'https://github.com/trending/python?since=monthly', '/login?return_to=%2FAzeemIdrisi%2FPhoneSploit-Pro', '/AzeemIdrisi/PhoneSploit-Pro', '/AzeemIdrisi/PhoneSploit-Pro/stargazers', '/AzeemIdrisi/PhoneSploit-Pro/network/members', '/AzeemIdrisi', '/login?return_to=%2FLAION-AI%2FOpen-Assistant', '/LAION-AI/Open-Assistant', '/LAION-AI/Open-Assistant/stargazers', '/LAION-AI/Open-Assistant/network/members', '/fozziethebeat', '/yk', '/andreaskoepf', '/AbdBarho', '/andrewm4894', '/login?return_to=%2Fhwchase17%2Fchat-langchain', '/hwchase17/chat-langchain', '/hwchase17/chat-langchain/stargazers', '/hwchase17/chat-langchain/network/members', '/hwchase17', '/sponsors/bregman-arie', '/login?return_to=%2Fbregman-arie%2Fdevops-exercises', '/bregman-arie/devops-exercises', '/bregman-arie/devops-exercises/stargazers', '/bregman-arie/devops-exercises/network/members', '/surister', '/austinsonger', '/bregman-arie', '/knoxknot', '/adrianfusco', '/login?return_to=%2Fmindsdb%2Fmindsdb', '/mindsdb/mindsdb', '/mindsdb/mindsdb/stargazers', '/mindsdb/mindsdb/network/members', '/StpMax', '/George3d6', '/ZoranPandovski', '/ea-rus', '/martyna-mindsdb', '/login?return_to=%2FAUTOMATIC1111%2Fstable-diffusion-webui', '/AUTOMATIC1111/stable-diffusion-webui', '/AUTOMATIC1111/stable-diffusion-webui/stargazers', '/AUTOMATIC1111/stable-diffusion-webui/network/members', '/AUTOMATIC1111', '/dfaker', '/C43H66N12O12S2', '/yfszzx', '/brkirch', '/login?return_to=%2FZ4nzu%2Fhackingtool', '/Z4nzu/hackingtool', '/Z4nzu/hackingtool/stargazers', '/Z4nzu/hackingtool/network/members', '/Z4nzu', '/Greatest125', '/cclauss', '/mokrunka', '/W1LDN16H7', '/login?return_to=%2Fgeohot%2Ftinygrad', '/geohot/tinygrad', '/geohot/tinygrad/stargazers', '/geohot/tinygrad/network/members', '/geohot', '/marcelbischoff', '/ryanneph', '/Liamdoult', '/adriangb', '/login?return_to=%2Fjackfrued%2FPython-100-Days', '/jackfrued/Python-100-Days', '/jackfrued/Python-100-Days/stargazers', '/jackfrued/Python-100-Days/network/members', '/jackfrued', '/softpo', '/geekya215', '/jankeromnes', '/royaso', '/login?return_to=%2Fbotallen%2Frepository.botallen', '/botallen/repository.botallen', '/botallen/repository.botallen/stargazers', '/botallen/repository.botallen/network/members', '/iMro0t', '/login?return_to=%2FReFirmLabs%2Fbinwalk', '/ReFirmLabs/binwalk', '/ReFirmLabs/binwalk/stargazers', '/ReFirmLabs/binwalk/network/members', '/devttys0', '/eacmen', '/sundhaug92', '/ddcc', '/M1cha', '/sponsors/521xueweihan', '/login?return_to=%2F521xueweihan%2FHelloGitHub', '/521xueweihan/HelloGitHub', '/521xueweihan/HelloGitHub/stargazers', '/521xueweihan/HelloGitHub/network/members', '/521xueweihan', '/yaowenqiang', '/daixiang0', '/ChungZH', '/hibobby', '/login?return_to=%2Fmicrosoft%2Frestler-fuzzer', '/microsoft/restler-fuzzer', '/microsoft/restler-fuzzer/stargazers', '/microsoft/restler-fuzzer/network/members', '/marina-p', '/rifiles', '/PatGod', '/stishkin', '/mikekistler', '/login?return_to=%2Fdonnemartin%2Fsystem-design-primer', '/donnemartin/system-design-primer', '/donnemartin/system-design-primer/stargazers', '/donnemartin/system-design-primer/network/members', '/donnemartin', '/cclauss', '/satob', '/fluency03', '/sqrthree', '/login?return_to=%2Fapproximatelabs%2Fsketch', '/approximatelabs/sketch', '/approximatelabs/sketch/stargazers', '/approximatelabs/sketch/network/members', '/bluecoconut', '/thewchan', '/jmbiven', '/login?return_to=%2Fmandiant%2Fcapa', '/mandiant/capa', '/mandiant/capa/stargazers', '/mandiant/capa/network/members', '/williballenthin', '/capa-bot', '/mr-tz', '/mike-hunhoff', '/apps/dependabot', '/login?return_to=%2Fvnpy%2Fvnpy', '/vnpy/vnpy', '/vnpy/vnpy/stargazers', '/vnpy/vnpy/network/members', '/vnpy', '/1122455801', '/nanoric', '/noranhe', '/chenxy123', '/login?return_to=%2Fiperov%2FDeepFaceLab', '/iperov/DeepFaceLab', '/iperov/DeepFaceLab/stargazers', '/iperov/DeepFaceLab/network/members', '/iperov', '/Auroir', '/MaksV79', '/lbfs', '/andenixa', '/login?return_to=%2Fmicrosoft%2FBioGPT', '/microsoft/BioGPT', '/microsoft/BioGPT/stargazers', '/microsoft/BioGPT/network/members', '/renqianluo', '/microsoftopensource', '/login?return_to=%2Frawandahmad698%2FPyChatGPT', '/rawandahmad698/PyChatGPT', '/rawandahmad698/PyChatGPT/stargazers', '/rawandahmad698/PyChatGPT/network/members', '/rawandahmad698', '/Mazawrath', '/NithSelv', '/AK391', '/alx', '/login?return_to=%2Ffacebookresearch%2FCutLER', '/facebookresearch/CutLER', '/facebookresearch/CutLER/stargazers', '/facebookresearch/CutLER/network/members', '/frank-xwang', '/facebook-github-bot', '/imisra', '/login?return_to=%2FHackSoftware%2FDjango-Styleguide', '/HackSoftware/Django-Styleguide', '/HackSoftware/Django-Styleguide/stargazers', '/HackSoftware/Django-Styleguide/network/members', '/RadoRado', '/wencakisa', '/martin056', '/Ivo-Donchev', '/Stormheg', '/login?return_to=%2FEvil0ctal%2FDouyin_TikTok_Download_API', '/Evil0ctal/Douyin_TikTok_Download_API', '/Evil0ctal/Douyin_TikTok_Download_API/stargazers', '/Evil0ctal/Douyin_TikTok_Download_API/network/members', '/Evil0ctal', '/apps/github-actions', '/jw-star', '/TheBunnies', '/chris-ss', '/login?return_to=%2Fmicrosoft%2Ffluentui-emoji', '/microsoft/fluentui-emoji', '/microsoft/fluentui-emoji/stargazers', '/microsoft/fluentui-emoji/network/members', '/williamch-ms', '/jasoncuster', '/microsoftopensource', '/TravisSpomer', '/spencer-nelson', '/sponsors/rougier', '/login?return_to=%2Frougier%2Fnumpy-100', '/rougier/numpy-100', '/rougier/numpy-100/stargazers', '/rougier/numpy-100/network/members', '/rougier', '/SebastianoF', '/ibah', '/kuzand', '/Haksell', 'https://github.com', 'https://docs.github.com/en/github/site-policy/github-terms-of-service', 'https://docs.github.com/site-policy/privacy-policies/github-privacy-statement', 'https://github.com/security', 'https://www.githubstatus.com/', 'https://docs.github.com', 'https://support.github.com?tags=dotcom-footer', 'https://github.com/pricing', 'https://docs.github.com', 'https://services.github.com', 'https://github.blog', 'https://github.com/about', '', '']\n"
     ]
    }
   ],
   "source": [
    "import requests\n",
    "from bs4 import BeautifulSoup\n",
    "\n",
    "# Request the Wikipedia page\n",
    "response = requests.get(url)\n",
    "\n",
    "# Create a BeautifulSoup object\n",
    "soup = BeautifulSoup(response.text, 'html.parser')\n",
    "\n",
    "# Find all the links on the page\n",
    "links = [link.get('href') for link in soup.find_all('a')]\n",
    "\n",
    "# Print the list of links\n",
    "print(links)"
   ]
  },
  {
   "cell_type": "markdown",
   "metadata": {},
   "source": [
    "#### Find the number of titles that have changed in the United States Code since its last release point."
   ]
  },
  {
   "cell_type": "code",
   "execution_count": null,
   "metadata": {},
   "outputs": [],
   "source": [
    "# This is the url you will scrape in this exercise\n",
    "url = 'http://uscode.house.gov/download/download.shtml'"
   ]
  },
  {
   "cell_type": "code",
   "execution_count": null,
   "metadata": {},
   "outputs": [],
   "source": [
    "# your code here"
   ]
  },
  {
   "cell_type": "markdown",
   "metadata": {},
   "source": [
    "#### Find a Python list with the top ten FBI's Most Wanted names."
   ]
  },
  {
   "cell_type": "code",
   "execution_count": null,
   "metadata": {},
   "outputs": [],
   "source": [
    "# This is the url you will scrape in this exercise\n",
    "url = 'https://www.fbi.gov/wanted/topten'"
   ]
  },
  {
   "cell_type": "code",
   "execution_count": 9,
   "metadata": {},
   "outputs": [
    {
     "name": "stdout",
     "output_type": "stream",
     "text": [
      "['ARNOLDO JIMENEZ', 'OMAR ALEXANDER CARDENAS', 'ALEXIS FLORES', 'YULAN ADONAY ARCHAGA CARIAS', 'BHADRESHKUMAR CHETANBHAI PATEL', 'ALEJANDRO ROSALES CASTILLO', 'RUJA IGNATOVA', 'JOSE RODOLFO VILLARREAL-HERNANDEZ', 'MICHAEL JAMES PRATT', 'RAFAEL CARO-QUINTERO']\n"
     ]
    }
   ],
   "source": [
    "import requests\n",
    "from bs4 import BeautifulSoup\n",
    "\n",
    "url = 'https://www.fbi.gov/wanted/topten'\n",
    "page = requests.get(url)\n",
    "soup = BeautifulSoup(page.content, 'html.parser')\n",
    "\n",
    "top_ten = soup.find_all('h3', {'class': 'title'})\n",
    "most_wanted = [name.text.strip() for name in top_ten]\n",
    "\n",
    "print(most_wanted[:10])"
   ]
  },
  {
   "cell_type": "markdown",
   "metadata": {},
   "source": [
    "####  Display the 20 latest earthquakes info (date, time, latitude, longitude and region name) by the EMSC as a pandas dataframe."
   ]
  },
  {
   "cell_type": "code",
   "execution_count": 11,
   "metadata": {},
   "outputs": [],
   "source": [
    "# This is the url you will scrape in this exercise\n",
    "url = 'https://www.emsc-csem.org/Earthquake/'"
   ]
  },
  {
   "cell_type": "code",
   "execution_count": 12,
   "metadata": {},
   "outputs": [
    {
     "name": "stdout",
     "output_type": "stream",
     "text": [
      "Empty DataFrame\n",
      "Columns: []\n",
      "Index: []\n"
     ]
    }
   ],
   "source": [
    "import pandas as pd\n",
    "import requests\n",
    "from bs4 import BeautifulSoup\n",
    "\n",
    "# Extract the page content and create a BeautifulSoup object\n",
    "page = requests.get(url)\n",
    "soup = BeautifulSoup(page.content, 'html.parser')\n",
    "\n",
    "# Find the html elements that contain the earthquake information\n",
    "earthquakes = soup.find_all('tr', class_='odd') + soup.find_all('tr', class_='even')\n",
    "\n",
    "# Extract the earthquake information and store it in a list of dictionaries\n",
    "earthquakes_list = []\n",
    "for earthquake in earthquakes:\n",
    "    earthquake_data = earthquake.find_all('td')\n",
    "    date = earthquake_data[0].text\n",
    "    time = earthquake_data[1].text\n",
    "    latitude = earthquake_data[2].text\n",
    "    longitude = earthquake_data[3].text\n",
    "    region = earthquake_data[4].text\n",
    "    earthquakes_list.append({\n",
    "        'Date': date,\n",
    "        'Time': time,\n",
    "        'Latitude': latitude,\n",
    "        'Longitude': longitude,\n",
    "        'Region': region\n",
    "    })\n",
    "\n",
    "# Create a pandas dataframe from the list of dictionaries\n",
    "df = pd.DataFrame(earthquakes_list)\n",
    "\n",
    "# Display the first 20 rows of the dataframe\n",
    "print(df.head(20))"
   ]
  },
  {
   "cell_type": "markdown",
   "metadata": {},
   "source": [
    "#### Count the number of tweets by a given Twitter account.\n",
    "Ask the user for the handle (@handle) of a twitter account. You will need to include a ***try/except block*** for account names not found. \n",
    "<br>***Hint:*** the program should count the number of tweets for any provided account."
   ]
  },
  {
   "cell_type": "code",
   "execution_count": null,
   "metadata": {},
   "outputs": [],
   "source": [
    "# This is the url you will scrape in this exercise \n",
    "# You will need to add the account credentials to this url\n",
    "url = 'https://twitter.com/'"
   ]
  },
  {
   "cell_type": "code",
   "execution_count": 13,
   "metadata": {},
   "outputs": [
    {
     "name": "stdout",
     "output_type": "stream",
     "text": [
      "Enter the Twitter handle (e.g. @handle): @handle\n",
      "Error: 'NoneType' object has no attribute 'find'\n"
     ]
    }
   ],
   "source": [
    "handle = input(\"Enter the Twitter handle (e.g. @handle): \")\n",
    "\n",
    "# Base URL for twitter profile\n",
    "url = f\"https://twitter.com/{handle}\"\n",
    "\n",
    "try:\n",
    "    # Use requests library to fetch the HTML content of the URL\n",
    "    response = requests.get(url)\n",
    "    \n",
    "    # Check if the URL is valid and the profile exists\n",
    "    if response.status_code == 200:\n",
    "        # Parse the HTML content using BeautifulSoup\n",
    "        soup = BeautifulSoup(response.content, 'html.parser')\n",
    "        \n",
    "        # Find the number of tweets using the HTML tag and class\n",
    "        tweet_container = soup.find('li', {'class': 'ProfileNav-item--tweets'})\n",
    "        tweet_count = tweet_container.find('span', {'class': 'ProfileNav-value'})\n",
    "        \n",
    "        print(f\"Number of tweets by {handle}: {tweet_count.text}\")\n",
    "        \n",
    "    else:\n",
    "        # Raise an exception if the profile doesn't exist or the URL is invalid\n",
    "        raise Exception(\"Profile not found.\")\n",
    "        \n",
    "except Exception as e:\n",
    "    print(f\"Error: {e}\")"
   ]
  },
  {
   "cell_type": "markdown",
   "metadata": {},
   "source": [
    "#### Number of followers of a given twitter account\n",
    "Ask the user for the handle (@handle) of a twitter account. You will need to include a ***try/except block*** for account names not found. \n",
    "<br>***Hint:*** the program should count the followers for any provided account."
   ]
  },
  {
   "cell_type": "code",
   "execution_count": null,
   "metadata": {},
   "outputs": [],
   "source": [
    "# This is the url you will scrape in this exercise \n",
    "# You will need to add the account credentials to this url\n",
    "url = 'https://twitter.com/'"
   ]
  },
  {
   "cell_type": "code",
   "execution_count": 17,
   "metadata": {},
   "outputs": [
    {
     "name": "stdout",
     "output_type": "stream",
     "text": [
      "Enter Twitter handle (@handle): @handle\n",
      "Twitter handle '@handle' not found.\n"
     ]
    }
   ],
   "source": [
    "handle = input(\"Enter Twitter handle (@handle): \")\n",
    "\n",
    "# URL to scrape followers count from\n",
    "url = f'https://twitter.com/{handle}'\n",
    "\n",
    "try:\n",
    "    # Use requests library to get HTML content of the page\n",
    "    response = requests.get(url)\n",
    "    # Use BeautifulSoup to parse HTML content\n",
    "    soup = BeautifulSoup(response.content, 'html.parser')\n",
    "    # Find the followers count by searching for the HTML tag and class name\n",
    "    followers_count = soup.find('a', {'data-nav': 'followers'}).find('span', {'class': 'ProfileNav-value'}).get('data-count')\n",
    "    print(f'Number of followers for {handle}: {followers_count}')\n",
    "except:\n",
    "    print(f\"Twitter handle '{handle}' not found.\")"
   ]
  },
  {
   "cell_type": "markdown",
   "metadata": {},
   "source": [
    "#### List all language names and number of related articles in the order they appear in wikipedia.org."
   ]
  },
  {
   "cell_type": "code",
   "execution_count": 21,
   "metadata": {},
   "outputs": [],
   "source": [
    "# This is the url you will scrape in this exercise\n",
    "url = 'https://www.wikipedia.org/'"
   ]
  },
  {
   "cell_type": "code",
   "execution_count": 23,
   "metadata": {},
   "outputs": [
    {
     "ename": "AttributeError",
     "evalue": "'NoneType' object has no attribute 'text'",
     "output_type": "error",
     "traceback": [
      "\u001b[0;31m---------------------------------------------------------------------------\u001b[0m",
      "\u001b[0;31mAttributeError\u001b[0m                            Traceback (most recent call last)",
      "\u001b[0;32m/var/folders/wx/v19kf4_j1p1gwtlfg83w0_gm0000gn/T/ipykernel_44949/3965667511.py\u001b[0m in \u001b[0;36m<module>\u001b[0;34m\u001b[0m\n\u001b[1;32m     11\u001b[0m \u001b[0mlangs\u001b[0m \u001b[0;34m=\u001b[0m \u001b[0;34m[\u001b[0m\u001b[0;34m]\u001b[0m\u001b[0;34m\u001b[0m\u001b[0;34m\u001b[0m\u001b[0m\n\u001b[1;32m     12\u001b[0m \u001b[0;32mfor\u001b[0m \u001b[0mtag\u001b[0m \u001b[0;32min\u001b[0m \u001b[0mlang_tags\u001b[0m\u001b[0;34m:\u001b[0m\u001b[0;34m\u001b[0m\u001b[0;34m\u001b[0m\u001b[0m\n\u001b[0;32m---> 13\u001b[0;31m     \u001b[0mname\u001b[0m \u001b[0;34m=\u001b[0m \u001b[0mtag\u001b[0m\u001b[0;34m.\u001b[0m\u001b[0mfind\u001b[0m\u001b[0;34m(\u001b[0m\u001b[0;34m'div'\u001b[0m\u001b[0;34m,\u001b[0m \u001b[0;34m{\u001b[0m\u001b[0;34m'class'\u001b[0m\u001b[0;34m:\u001b[0m \u001b[0;34m'language_name'\u001b[0m\u001b[0;34m}\u001b[0m\u001b[0;34m)\u001b[0m\u001b[0;34m.\u001b[0m\u001b[0mtext\u001b[0m\u001b[0;34m\u001b[0m\u001b[0;34m\u001b[0m\u001b[0m\n\u001b[0m\u001b[1;32m     14\u001b[0m     \u001b[0marticles\u001b[0m \u001b[0;34m=\u001b[0m \u001b[0mtag\u001b[0m\u001b[0;34m.\u001b[0m\u001b[0mfind\u001b[0m\u001b[0;34m(\u001b[0m\u001b[0;34m'div'\u001b[0m\u001b[0;34m,\u001b[0m \u001b[0;34m{\u001b[0m\u001b[0;34m'class'\u001b[0m\u001b[0;34m:\u001b[0m \u001b[0;34m'articles_count'\u001b[0m\u001b[0;34m}\u001b[0m\u001b[0;34m)\u001b[0m\u001b[0;34m.\u001b[0m\u001b[0mtext\u001b[0m\u001b[0;34m\u001b[0m\u001b[0;34m\u001b[0m\u001b[0m\n\u001b[1;32m     15\u001b[0m     \u001b[0mlangs\u001b[0m\u001b[0;34m.\u001b[0m\u001b[0mappend\u001b[0m\u001b[0;34m(\u001b[0m\u001b[0;34m(\u001b[0m\u001b[0mname\u001b[0m\u001b[0;34m,\u001b[0m \u001b[0marticles\u001b[0m\u001b[0;34m)\u001b[0m\u001b[0;34m)\u001b[0m\u001b[0;34m\u001b[0m\u001b[0;34m\u001b[0m\u001b[0m\n",
      "\u001b[0;31mAttributeError\u001b[0m: 'NoneType' object has no attribute 'text'"
     ]
    }
   ],
   "source": [
    "import requests\n",
    "from bs4 import BeautifulSoup\n",
    "\n",
    "# This is the url you will scrape in this exercise\n",
    "url = 'https://www.wikipedia.org/'\n",
    "\n",
    "response = requests.get(url)\n",
    "soup = BeautifulSoup(response.content, 'html.parser')\n",
    "lang_tags = soup.find_all('div', {'class': 'central-featured-lang'})\n",
    "\n",
    "langs = []\n",
    "for tag in lang_tags:\n",
    "    name = tag.find('div', {'class': 'language_name'}).text\n",
    "    articles = tag.find('div', {'class': 'articles_count'}).text\n",
    "    langs.append((name, articles))\n",
    "\n",
    "print(langs)"
   ]
  },
  {
   "cell_type": "markdown",
   "metadata": {},
   "source": [
    "#### A list with the different kind of datasets available in data.gov.uk."
   ]
  },
  {
   "cell_type": "code",
   "execution_count": 27,
   "metadata": {},
   "outputs": [],
   "source": [
    "# This is the url you will scrape in this exercise\n",
    "url = 'https://data.gov.uk/'"
   ]
  },
  {
   "cell_type": "code",
   "execution_count": 31,
   "metadata": {},
   "outputs": [
    {
     "ename": "AttributeError",
     "evalue": "'NoneType' object has no attribute 'find_all'",
     "output_type": "error",
     "traceback": [
      "\u001b[0;31m---------------------------------------------------------------------------\u001b[0m",
      "\u001b[0;31mAttributeError\u001b[0m                            Traceback (most recent call last)",
      "\u001b[0;32m/var/folders/wx/v19kf4_j1p1gwtlfg83w0_gm0000gn/T/ipykernel_44949/1593018357.py\u001b[0m in \u001b[0;36m<module>\u001b[0;34m\u001b[0m\n\u001b[1;32m     12\u001b[0m \u001b[0;34m\u001b[0m\u001b[0m\n\u001b[1;32m     13\u001b[0m \u001b[0;31m# Extract all the li tags containing the dataset information\u001b[0m\u001b[0;34m\u001b[0m\u001b[0;34m\u001b[0m\u001b[0m\n\u001b[0;32m---> 14\u001b[0;31m \u001b[0mdataset_tags\u001b[0m \u001b[0;34m=\u001b[0m \u001b[0mdataset_list_tag\u001b[0m\u001b[0;34m.\u001b[0m\u001b[0mfind_all\u001b[0m\u001b[0;34m(\u001b[0m\u001b[0;34m'li'\u001b[0m\u001b[0;34m)\u001b[0m\u001b[0;34m\u001b[0m\u001b[0;34m\u001b[0m\u001b[0m\n\u001b[0m\u001b[1;32m     15\u001b[0m \u001b[0;34m\u001b[0m\u001b[0m\n\u001b[1;32m     16\u001b[0m \u001b[0;31m# Create a list to store the names of the datasets\u001b[0m\u001b[0;34m\u001b[0m\u001b[0;34m\u001b[0m\u001b[0m\n",
      "\u001b[0;31mAttributeError\u001b[0m: 'NoneType' object has no attribute 'find_all'"
     ]
    }
   ],
   "source": [
    "import requests\n",
    "from bs4 import BeautifulSoup\n",
    "\n",
    "# Use requests library to get the contents of the website\n",
    "response = requests.get(url)\n",
    "\n",
    "# Parse the content of the website with BeautifulSoup\n",
    "soup = BeautifulSoup(response.content, 'html.parser')\n",
    "\n",
    "# Find the tag containing the list of datasets\n",
    "dataset_list_tag = soup.find('ul', {'class': 'dataset-list'})\n",
    "\n",
    "# Extract all the li tags containing the dataset information\n",
    "dataset_tags = dataset_list_tag.find_all('li')\n",
    "\n",
    "# Create a list to store the names of the datasets\n",
    "datasets = []\n",
    "\n",
    "# Loop through all the li tags to get the name of each dataset\n",
    "for dataset_tag in dataset_tags:\n",
    "    name = dataset_tag.find('a').text\n",
    "    datasets.append(name)\n",
    "\n",
    "# Print the list of datasets\n",
    "print(datasets)"
   ]
  },
  {
   "cell_type": "markdown",
   "metadata": {},
   "source": [
    "#### Display the top 10 languages by number of native speakers stored in a pandas dataframe."
   ]
  },
  {
   "cell_type": "code",
   "execution_count": null,
   "metadata": {},
   "outputs": [],
   "source": [
    "# This is the url you will scrape in this exercise\n",
    "url = 'https://en.wikipedia.org/wiki/List_of_languages_by_number_of_native_speakers'"
   ]
  },
  {
   "cell_type": "code",
   "execution_count": 32,
   "metadata": {},
   "outputs": [
    {
     "ename": "AttributeError",
     "evalue": "'NoneType' object has no attribute 'find'",
     "output_type": "error",
     "traceback": [
      "\u001b[0;31m---------------------------------------------------------------------------\u001b[0m",
      "\u001b[0;31mAttributeError\u001b[0m                            Traceback (most recent call last)",
      "\u001b[0;32m/var/folders/wx/v19kf4_j1p1gwtlfg83w0_gm0000gn/T/ipykernel_44949/1449165809.py\u001b[0m in \u001b[0;36m<module>\u001b[0;34m\u001b[0m\n\u001b[1;32m     14\u001b[0m \u001b[0;34m\u001b[0m\u001b[0m\n\u001b[1;32m     15\u001b[0m     \u001b[0;31m# Get the header row\u001b[0m\u001b[0;34m\u001b[0m\u001b[0;34m\u001b[0m\u001b[0m\n\u001b[0;32m---> 16\u001b[0;31m     \u001b[0mheader\u001b[0m \u001b[0;34m=\u001b[0m \u001b[0;34m[\u001b[0m\u001b[0mth\u001b[0m\u001b[0;34m.\u001b[0m\u001b[0mtext\u001b[0m\u001b[0;34m.\u001b[0m\u001b[0mstrip\u001b[0m\u001b[0;34m(\u001b[0m\u001b[0;34m)\u001b[0m \u001b[0;32mfor\u001b[0m \u001b[0mth\u001b[0m \u001b[0;32min\u001b[0m \u001b[0mtable\u001b[0m\u001b[0;34m.\u001b[0m\u001b[0mfind\u001b[0m\u001b[0;34m(\u001b[0m\u001b[0;34m'tr'\u001b[0m\u001b[0;34m)\u001b[0m\u001b[0;34m.\u001b[0m\u001b[0mfind_all\u001b[0m\u001b[0;34m(\u001b[0m\u001b[0;34m'th'\u001b[0m\u001b[0;34m)\u001b[0m\u001b[0;34m]\u001b[0m\u001b[0;34m\u001b[0m\u001b[0;34m\u001b[0m\u001b[0m\n\u001b[0m\u001b[1;32m     17\u001b[0m \u001b[0;34m\u001b[0m\u001b[0m\n\u001b[1;32m     18\u001b[0m     \u001b[0;31m# Get the data rows\u001b[0m\u001b[0;34m\u001b[0m\u001b[0;34m\u001b[0m\u001b[0m\n",
      "\u001b[0;31mAttributeError\u001b[0m: 'NoneType' object has no attribute 'find'"
     ]
    }
   ],
   "source": [
    "import pandas as pd\n",
    "import requests\n",
    "from bs4 import BeautifulSoup\n",
    "\n",
    "# Make a request to the URL\n",
    "res = requests.get(url)\n",
    "\n",
    "# Check if the request is successful\n",
    "if res.status_code == 200:\n",
    "    soup = BeautifulSoup(res.content, 'html.parser')\n",
    "\n",
    "    # Find the table containing the information\n",
    "    table = soup.find('table', {'class': 'wikitable sortable'})\n",
    "    \n",
    "    # Get the header row\n",
    "    header = [th.text.strip() for th in table.find('tr').find_all('th')]\n",
    "    \n",
    "    # Get the data rows\n",
    "    rows = []\n",
    "    for tr in table.find_all('tr')[1:]:\n",
    "        rows.append([td.text.strip() for td in tr.find_all('td')])\n",
    "        \n",
    "    # Create the dataframe\n",
    "    df = pd.DataFrame(rows, columns=header)\n",
    "    \n",
    "    # Display the top 10 rows\n",
    "    print(df.head(10))\n",
    "else:\n",
    "    print('Failed to fetch the data')"
   ]
  },
  {
   "cell_type": "markdown",
   "metadata": {},
   "source": [
    "## Bonus\n",
    "#### Scrape a certain number of tweets of a given Twitter account."
   ]
  },
  {
   "cell_type": "code",
   "execution_count": null,
   "metadata": {},
   "outputs": [],
   "source": [
    "# This is the url you will scrape in this exercise \n",
    "# You will need to add the account credentials to this url\n",
    "url = 'https://twitter.com/'"
   ]
  },
  {
   "cell_type": "code",
   "execution_count": null,
   "metadata": {},
   "outputs": [],
   "source": [
    "# your code here"
   ]
  },
  {
   "cell_type": "markdown",
   "metadata": {},
   "source": [
    "#### Display IMDB's top 250 data (movie name, initial release, director name and stars) as a pandas dataframe."
   ]
  },
  {
   "cell_type": "code",
   "execution_count": null,
   "metadata": {},
   "outputs": [],
   "source": [
    "# This is the url you will scrape in this exercise \n",
    "url = 'https://www.imdb.com/chart/top'"
   ]
  },
  {
   "cell_type": "code",
   "execution_count": null,
   "metadata": {},
   "outputs": [],
   "source": [
    "# your code here"
   ]
  },
  {
   "cell_type": "markdown",
   "metadata": {},
   "source": [
    "#### Display the movie name, year and a brief summary of the top 10 random movies (IMDB) as a pandas dataframe."
   ]
  },
  {
   "cell_type": "code",
   "execution_count": null,
   "metadata": {},
   "outputs": [],
   "source": [
    "#This is the url you will scrape in this exercise\n",
    "url = 'http://www.imdb.com/chart/top'"
   ]
  },
  {
   "cell_type": "code",
   "execution_count": null,
   "metadata": {},
   "outputs": [],
   "source": [
    "# your code here"
   ]
  },
  {
   "cell_type": "markdown",
   "metadata": {},
   "source": [
    "#### Find the live weather report (temperature, wind speed, description and weather) of a given city."
   ]
  },
  {
   "cell_type": "code",
   "execution_count": null,
   "metadata": {},
   "outputs": [],
   "source": [
    "#https://openweathermap.org/current\n",
    "city = input('Enter the city: ')\n",
    "url = 'http://api.openweathermap.org/data/2.5/weather?'+'q='+city+'&APPID=b35975e18dc93725acb092f7272cc6b8&units=metric'"
   ]
  },
  {
   "cell_type": "code",
   "execution_count": null,
   "metadata": {},
   "outputs": [],
   "source": [
    "# your code here"
   ]
  },
  {
   "cell_type": "markdown",
   "metadata": {},
   "source": [
    "#### Find the book name, price and stock availability as a pandas dataframe."
   ]
  },
  {
   "cell_type": "code",
   "execution_count": null,
   "metadata": {},
   "outputs": [],
   "source": [
    "# This is the url you will scrape in this exercise. \n",
    "# It is a fictional bookstore created to be scraped. \n",
    "url = 'http://books.toscrape.com/'"
   ]
  },
  {
   "cell_type": "code",
   "execution_count": null,
   "metadata": {},
   "outputs": [],
   "source": [
    "# your code here"
   ]
  }
 ],
 "metadata": {
  "kernelspec": {
   "display_name": "Python 3 (ipykernel)",
   "language": "python",
   "name": "python3"
  },
  "language_info": {
   "codemirror_mode": {
    "name": "ipython",
    "version": 3
   },
   "file_extension": ".py",
   "mimetype": "text/x-python",
   "name": "python",
   "nbconvert_exporter": "python",
   "pygments_lexer": "ipython3",
   "version": "3.9.13"
  }
 },
 "nbformat": 4,
 "nbformat_minor": 2
}
