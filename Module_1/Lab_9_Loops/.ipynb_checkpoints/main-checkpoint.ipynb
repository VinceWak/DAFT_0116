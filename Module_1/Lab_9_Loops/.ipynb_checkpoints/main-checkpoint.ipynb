{
 "cells": [
  {
   "cell_type": "markdown",
   "metadata": {},
   "source": [
    "# Loops\n",
    "\n",
    "Complete the following set of exercises to solidify your knowledge for Loops."
   ]
  },
  {
   "cell_type": "markdown",
   "metadata": {},
   "source": [
    "#### 1. Print first 10 natural numbers using while loop"
   ]
  },
  {
   "cell_type": "code",
   "execution_count": 1,
   "metadata": {},
   "outputs": [
    {
     "name": "stdout",
     "output_type": "stream",
     "text": [
      "1\n",
      "2\n",
      "3\n",
      "4\n",
      "5\n",
      "6\n",
      "7\n",
      "8\n",
      "9\n",
      "10\n"
     ]
    }
   ],
   "source": [
    "i = 1\n",
    "while i <= 10:\n",
    "    print(i)\n",
    "    i += 1"
   ]
  },
  {
   "cell_type": "markdown",
   "metadata": {},
   "source": [
    "#### 2. Display numbers from a list using loop\n",
    "Write a program to display only those numbers from a list that satisfy the following conditions\n",
    "\n",
    "The number must be divisible by five\n",
    "\n",
    "If the number is greater than 150, then skip it and move to the next number\n",
    "\n",
    "If the number is greater than 500, then stop the loop\n",
    "\n",
    "numbers = [12, 75, 150, 180, 145, 525, 50]"
   ]
  },
  {
   "cell_type": "code",
   "execution_count": 2,
   "metadata": {},
   "outputs": [
    {
     "name": "stdout",
     "output_type": "stream",
     "text": [
      "75\n",
      "150\n",
      "145\n"
     ]
    }
   ],
   "source": [
    "numbers = [12, 75, 150, 180, 145, 525, 50]\n",
    "\n",
    "for number in numbers:\n",
    "    if number > 500:\n",
    "        break\n",
    "    if number > 150:\n",
    "        continue\n",
    "    if number % 5 == 0:\n",
    "        print(number)"
   ]
  },
  {
   "cell_type": "markdown",
   "metadata": {},
   "source": [
    "#### 3.Write a Python program to check the validity of a password (input from users).\n",
    "\n",
    "Validation :\n",
    "\n",
    "At least 1 letter between [a-z] and 1 letter between [A-Z].\n",
    "\n",
    "At least 1 number between [0-9].\n",
    "\n",
    "At least 1 character from [$#@].\n",
    "\n",
    "Minimum length 6 characters.\n",
    "\n",
    "Maximum length 16 characters."
   ]
  },
  {
   "cell_type": "code",
   "execution_count": 4,
   "metadata": {},
   "outputs": [
    {
     "name": "stdout",
     "output_type": "stream",
     "text": [
      "@Ironhack123@Ironhack123\n",
      "Password is valid.\n"
     ]
    }
   ],
   "source": [
    "import re\n",
    "password = input(\"@Ironhack123\")\n",
    "\n",
    "valid = True\n",
    "\n",
    "if not re.search(\"[a-z]\", password):\n",
    "    valid = False\n",
    "    print(\"At least one lowercase letter is required.\")\n",
    "\n",
    "if not re.search(\"[A-Z]\", password):\n",
    "    valid = False\n",
    "    print(\"At least one uppercase letter is required.\")\n",
    "\n",
    "if not re.search(\"[0-9]\", password):\n",
    "    valid = False\n",
    "    print(\"At least one number is required.\")\n",
    "\n",
    "if not re.search(\"[$#@]\", password):\n",
    "    valid = False\n",
    "    print(\"At least one special character is required.\")\n",
    "\n",
    "if len(password) < 6:\n",
    "    valid = False\n",
    "    print(\"Minimum length of password should be 6 characters.\")\n",
    "\n",
    "if len(password) > 16:\n",
    "    valid = False\n",
    "    print(\"Maximum length of password should be 16 characters.\")\n",
    "\n",
    "if valid:\n",
    "    print(\"Password is valid.\")\n",
    "else:\n",
    "    print(\"Password is not valid.\")"
   ]
  },
  {
   "cell_type": "markdown",
   "metadata": {},
   "source": [
    "#### 4. Break the loop when x is 6, and see what happens with the else block"
   ]
  },
  {
   "cell_type": "code",
   "execution_count": 5,
   "metadata": {},
   "outputs": [
    {
     "name": "stdout",
     "output_type": "stream",
     "text": [
      "1\n",
      "2\n",
      "3\n",
      "4\n",
      "5\n"
     ]
    }
   ],
   "source": [
    "for i in range(1, 10):\n",
    "    if i == 6:\n",
    "        break\n",
    "    print(i)\n",
    "else:\n",
    "    print(\"Loop finished.\")"
   ]
  },
  {
   "cell_type": "markdown",
   "metadata": {},
   "source": [
    "#### 5. Write a Python program to calculate the sum and average of n integer numbers (input from the user). Input 0 to finish.\n"
   ]
  },
  {
   "cell_type": "code",
   "execution_count": 12,
   "metadata": {},
   "outputs": [
    {
     "name": "stdout",
     "output_type": "stream",
     "text": [
      "14 (0 to finish): 14\n",
      "14 (0 to finish): 0\n",
      "Sum: 14\n",
      "Average: 14.0\n"
     ]
    }
   ],
   "source": [
    "numbers = []\n",
    "while True:\n",
    "    number = int(input(\"14 (0 to finish): \"))\n",
    "    if number == 0:\n",
    "        break\n",
    "    numbers.append(number)\n",
    "\n",
    "total = sum(numbers)\n",
    "average = total / len(numbers)\n",
    "\n",
    "print(\"Sum:\", total)\n",
    "print(\"Average:\", average)"
   ]
  },
  {
   "cell_type": "code",
   "execution_count": null,
   "metadata": {},
   "outputs": [],
   "source": []
  },
  {
   "cell_type": "code",
   "execution_count": null,
   "metadata": {},
   "outputs": [],
   "source": []
  }
 ],
 "metadata": {
  "kernelspec": {
   "display_name": "Python 3 (ipykernel)",
   "language": "python",
   "name": "python3"
  },
  "language_info": {
   "codemirror_mode": {
    "name": "ipython",
    "version": 3
   },
   "file_extension": ".py",
   "mimetype": "text/x-python",
   "name": "python",
   "nbconvert_exporter": "python",
   "pygments_lexer": "ipython3",
   "version": "3.9.13"
  }
 },
 "nbformat": 4,
 "nbformat_minor": 2
}
