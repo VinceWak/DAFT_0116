{
 "cells": [
  {
   "cell_type": "code",
   "execution_count": 1,
   "id": "32165bd8",
   "metadata": {},
   "outputs": [],
   "source": [
    "def count_sheeps(sheep_array):\n",
    "    count = 0\n",
    "    for i in sheep_array:\n",
    "        if i == True:\n",
    "            count += 1\n",
    "    return count"
   ]
  },
  {
   "cell_type": "code",
   "execution_count": 8,
   "id": "a7011382",
   "metadata": {},
   "outputs": [],
   "source": [
    "def remove_every_other(arr):\n",
    "    return arr[0::2]"
   ]
  },
  {
   "cell_type": "code",
   "execution_count": 9,
   "id": "26592f27",
   "metadata": {},
   "outputs": [],
   "source": [
    "def digitize(n):\n",
    "    return [int(x) for x in str(n)[::-1]]"
   ]
  },
  {
   "cell_type": "code",
   "execution_count": null,
   "id": "d000bb89",
   "metadata": {},
   "outputs": [],
   "source": [
    "def square_digits(num):\n",
    "    return int(''.join([str(int(i)**2) for i in str(num)]))"
   ]
  },
  {
   "cell_type": "code",
   "execution_count": null,
   "id": "2b000876",
   "metadata": {},
   "outputs": [],
   "source": [
    "class List:\n",
    "    def count_spec_digits(self, integers_list, digits_list):\n",
    "        result = []\n",
    "        for digit in digits_list:\n",
    "            count = 0\n",
    "            for integer in integers_list:\n",
    "                count += str(integer).count(str(digit))\n",
    "            result.append((digit, count))\n",
    "        return result"
   ]
  },
  {
   "cell_type": "code",
   "execution_count": null,
   "id": "83086891",
   "metadata": {},
   "outputs": [],
   "source": []
  },
  {
   "cell_type": "code",
   "execution_count": null,
   "id": "698ecca8",
   "metadata": {},
   "outputs": [],
   "source": []
  },
  {
   "cell_type": "code",
   "execution_count": null,
   "id": "4ac04124",
   "metadata": {},
   "outputs": [],
   "source": []
  }
 ],
 "metadata": {
  "kernelspec": {
   "display_name": "Python 3 (ipykernel)",
   "language": "python",
   "name": "python3"
  },
  "language_info": {
   "codemirror_mode": {
    "name": "ipython",
    "version": 3
   },
   "file_extension": ".py",
   "mimetype": "text/x-python",
   "name": "python",
   "nbconvert_exporter": "python",
   "pygments_lexer": "ipython3",
   "version": "3.9.13"
  }
 },
 "nbformat": 4,
 "nbformat_minor": 5
}
