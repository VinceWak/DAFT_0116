{
 "cells": [
  {
   "cell_type": "markdown",
   "metadata": {},
   "source": [
    "# Before your start:\n",
    "- Read the README.md file\n",
    "- Comment as much as you can and use the resources in the README.md file\n",
    "- Happy learning!"
   ]
  },
  {
   "cell_type": "markdown",
   "metadata": {},
   "source": [
    "# Challenge 1 - Combining Strings\n",
    "\n",
    "Combining strings is an important skill to acquire. There are multiple ways of combining strings in Python, as well as combining strings with variables. We will explore this in the first challenge. In the cell below, combine the strings in the list and add spaces between the strings (do not add a space after the last string). Insert a period after the last string."
   ]
  },
  {
   "cell_type": "code",
   "execution_count": 2,
   "metadata": {},
   "outputs": [
    {
     "name": "stdout",
     "output_type": "stream",
     "text": [
      "Durante un tiempo no estuvo segura de si su marido era su marido.\n"
     ]
    }
   ],
   "source": [
    "str_list = ['Durante', 'un', 'tiempo', 'no', 'estuvo', 'segura', 'de', 'si', 'su', 'marido', 'era', 'su', 'marido']\n",
    "\n",
    "str_list = ['Durante', 'un', 'tiempo', 'no', 'estuvo', 'segura', 'de', 'si', 'su', 'marido', 'era', 'su', 'marido']\n",
    "combined_str = ' '.join(str_list) + \".\"\n",
    "print(combined_str)\n",
    "\n"
   ]
  },
  {
   "cell_type": "markdown",
   "metadata": {},
   "source": [
    "In the cell below, use the list of strings to create a grocery list. Start the list with the string `Grocery list: ` and include a comma and a space between each item except for the last one. Include a period at the end. Only include foods in the list that start with the letter 'b' and ensure all foods are lower case."
   ]
  },
  {
   "cell_type": "code",
   "execution_count": 4,
   "metadata": {},
   "outputs": [
    {
     "name": "stdout",
     "output_type": "stream",
     "text": [
      "Grocery list: bananas, bread, brownie mix and broccoli.\n"
     ]
    }
   ],
   "source": [
    "food_list = ['Bananas', 'Chocolate', 'bread', 'diapers', 'Ice Cream', 'Brownie Mix', 'broccoli']\n",
    "\n",
    "food_list = ['bananas', 'bread', 'brownie mix', 'broccoli']\n",
    "\n",
    "grocery_list = \"Grocery list: \" + ', '.join(food_list[:-1]) + ' and ' + food_list[-1] + '.'\n",
    "\n",
    "print(grocery_list)\n"
   ]
  },
  {
   "cell_type": "markdown",
   "metadata": {},
   "source": [
    "In the cell below, write a function that computes the area of a circle using its radius. Compute the area of the circle and insert the radius and the area between the two strings. Make sure to include spaces between the variable and the strings. \n",
    "\n",
    "Note: You can use the techniques we have learned so far or use f-strings. F-strings allow us to embed code inside strings. You can read more about f-strings [here](https://www.python.org/dev/peps/pep-0498/)."
   ]
  },
  {
   "cell_type": "code",
   "execution_count": 7,
   "metadata": {},
   "outputs": [
    {
     "name": "stdout",
     "output_type": "stream",
     "text": [
      "The area of the circle with radius: 4.5 is: 63.61725123519331\n"
     ]
    }
   ],
   "source": [
    "import math\n",
    "\n",
    "string1 = \"The area of the circle with radius:\"\n",
    "string2  = \"is:\"\n",
    "radius = 4.5\n",
    "\n",
    "def area(x, pi = math.pi):\n",
    "    \"\"\"\n",
    "    This function takes a radius and returns the area of a circle. \n",
    "    We also pass a default value for pi.\n",
    "    \n",
    "    Input: Float (and default value for pi)\n",
    "    Output: Float\n",
    "    \n",
    "    Sample input: 5.0\n",
    "    Sample Output: 78.53981633\n",
    "    \"\"\"\n",
    "    \n",
    "    \n",
    "\n",
    "import math  \n",
    "    \n",
    "string1 = \"The area of the circle with radius:\"\n",
    "string2 = \"is:\"\n",
    "radius = 4.5\n",
    "\n",
    "def area(x, pi = math.pi):\n",
    "    return pi*x**2\n",
    "\n",
    "area_of_circle = area(radius)\n",
    "print(f\"{string1} {radius} {string2} {area_of_circle}\")\n",
    "  \n",
    "    \n",
    "    \n",
    "    \n",
    "# Your output string here:\n"
   ]
  },
  {
   "cell_type": "markdown",
   "metadata": {},
   "source": [
    "# Challenge 2 - Splitting Strings\n",
    "\n",
    "We have first looked at combining strings into one long string. There are times where we need to do the opposite and split the string into smaller components for further analysis. \n",
    "\n",
    "In the cell below, split the string into a list of strings using the space delimiter. Count the frequency of each word in the string in a dictionary. Strip the periods, line breaks and commas from the text. Make sure to remove empty strings from your dictionary."
   ]
  },
  {
   "cell_type": "code",
   "execution_count": 31,
   "metadata": {},
   "outputs": [
    {
     "name": "stdout",
     "output_type": "stream",
     "text": [
      "{'some': 'not first', 'say': 'not first', 'the': 'first', 'world': 'first', 'will': 'first', 'end': 'first', 'in': 'not first', 'fire': 'not first', 'ice': 'not first', 'from': 'first', 'what': 'first', 'i’ve': 'first', 'tasted': 'first', 'of': 'not first', 'desire': 'first', 'i': 'not first', 'hold': 'first', 'with': 'first', 'those': 'first', 'who': 'first', 'favor': 'first', 'but': 'first', 'if': 'first', 'it': 'first', 'had': 'first', 'to': 'not first', 'perish': 'first', 'twice': 'first', 'think': 'first', 'know': 'first', 'enough': 'first', 'hate': 'first', 'that': 'first', 'for': 'first', 'destruction': 'first', 'is': 'first', 'also': 'first', 'great': 'first', 'and': 'first', 'would': 'first', 'suffice': 'first'}\n"
     ]
    }
   ],
   "source": [
    "poem = \"\"\"Some say the world will end in fire,\n",
    "Some say in ice.\n",
    "From what I’ve tasted of desire\n",
    "I hold with those who favor fire.\n",
    "But if it had to perish twice,\n",
    "I think I know enough of hate\n",
    "To say that for destruction ice\n",
    "Is also great\n",
    "And would suffice.\"\"\"\n",
    "\n",
    "poem = \"\"\"Some say the world will end in fire,\n",
    "Some say in ice.\n",
    "From what I’ve tasted of desire\n",
    "I hold with those who favor fire.\n",
    "But if it had to perish twice,\n",
    "I think I know enough of hate\n",
    "To say that for destruction ice\n",
    "Is also great\n",
    "And would suffice.\"\"\"\n",
    "poem = poem.replace(\"\\n\", \" \").replace(\",\",\"\").replace(\".\",\"\")\n",
    "words = poem.split(\" \")\n",
    "word_count = {}\n",
    "for word in words: \n",
    "    word = word.lower()\n",
    "    if word not in word_count:\n",
    "        word_count[word] = \"first\"\n",
    "    else:\n",
    "        word_count[word] = \"not first\"\n",
    "word_count.pop(\"\", None)\n",
    "print(word_count)\n",
    "\n"
   ]
  },
  {
   "cell_type": "markdown",
   "metadata": {},
   "source": [
    "In the cell below, find all the words that appear in the text and do not appear in the blacklist. You must parse the string but can choose any data structure you wish for the words that do not appear in the blacklist. Remove all non letter characters and convert all words to lower case."
   ]
  },
  {
   "cell_type": "code",
   "execution_count": 32,
   "metadata": {},
   "outputs": [
    {
     "name": "stdout",
     "output_type": "stream",
     "text": [
      "{'my', 'angry', 'end', 'bore', 'bright', 'grow', 'tree', 'grew', 'sunned', 'till', 'into', 'morning', 'did', 'see', 'told', 'knew', 'he', 'i', 'soft', 'day', 'stole', 'had', 'mine', 'outstretched', 'beheld', 'foe', 'beneath', 'garden', 'wrath', 'tears', 'shine', 'deceitful', 'wiles', 'was', 'fears', 'when', 'pole', 'that', 'veild', 'not', 'waterd', 'night', 'friend', 'with', 'apple', 'smiles', 'glad', 'both'}\n"
     ]
    }
   ],
   "source": [
    "blacklist = ['and', 'as', 'an', 'a', 'the', 'in', 'it']\n",
    "\n",
    "poem = \"\"\"I was angry with my friend; \n",
    "I told my wrath, my wrath did end.\n",
    "I was angry with my foe: \n",
    "I told it not, my wrath did grow. \n",
    "\n",
    "And I waterd it in fears,\n",
    "Night & morning with my tears: \n",
    "And I sunned it with smiles,\n",
    "And with soft deceitful wiles. \n",
    "\n",
    "And it grew both day and night. \n",
    "Till it bore an apple bright. \n",
    "And my foe beheld it shine,\n",
    "And he knew that it was mine. \n",
    "\n",
    "And into my garden stole, \n",
    "When the night had veild the pole; \n",
    "In the morning glad I see; \n",
    "My foe outstretched beneath the tree.\"\"\"\n",
    "\n",
    "\n",
    "import re\n",
    "\n",
    "#creating a blacklist\n",
    "blacklist = ['and', 'as', 'an', 'a', 'the', 'in', 'it']\n",
    "\n",
    "#removing non letter characters and converting all words to lower case\n",
    "poem = re.sub(r'[^a-zA-Z\\s]', '', poem).lower()\n",
    "\n",
    "#splitting the poem into words\n",
    "words = poem.split()\n",
    "\n",
    "#initializing an empty set to store the words that do not appear in the blacklist\n",
    "words_not_in_blacklist = set()\n",
    "\n",
    "#iterating through each word in the words list\n",
    "for word in words:\n",
    "    if word not in blacklist:\n",
    "        words_not_in_blacklist.add(word)\n",
    "\n",
    "print(words_not_in_blacklist)\n",
    "\n"
   ]
  },
  {
   "cell_type": "code",
   "execution_count": null,
   "metadata": {},
   "outputs": [],
   "source": []
  }
 ],
 "metadata": {
  "kernelspec": {
   "display_name": "Python 3 (ipykernel)",
   "language": "python",
   "name": "python3"
  },
  "language_info": {
   "codemirror_mode": {
    "name": "ipython",
    "version": 3
   },
   "file_extension": ".py",
   "mimetype": "text/x-python",
   "name": "python",
   "nbconvert_exporter": "python",
   "pygments_lexer": "ipython3",
   "version": "3.9.13"
  },
  "varInspector": {
   "cols": {
    "lenName": 16,
    "lenType": 16,
    "lenVar": 40
   },
   "kernels_config": {
    "python": {
     "delete_cmd_postfix": "",
     "delete_cmd_prefix": "del ",
     "library": "var_list.py",
     "varRefreshCmd": "print(var_dic_list())"
    },
    "r": {
     "delete_cmd_postfix": ") ",
     "delete_cmd_prefix": "rm(",
     "library": "var_list.r",
     "varRefreshCmd": "cat(var_dic_list()) "
    }
   },
   "types_to_exclude": [
    "module",
    "function",
    "builtin_function_or_method",
    "instance",
    "_Feature"
   ],
   "window_display": false
  }
 },
 "nbformat": 4,
 "nbformat_minor": 2
}
