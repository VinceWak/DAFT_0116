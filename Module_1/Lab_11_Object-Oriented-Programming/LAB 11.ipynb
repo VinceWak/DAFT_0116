{
 "cells": [
  {
   "cell_type": "code",
   "execution_count": 1,
   "id": "9e672be8",
   "metadata": {},
   "outputs": [],
   "source": [
    "def printer_error(s):\n",
    "    error_count = 0\n",
    "    for c in s:\n",
    "        if c not in \"abcdefghijklm\":\n",
    "            error_count += 1\n",
    "    return f\"{error_count}/{len(s)}\""
   ]
  },
  {
   "cell_type": "code",
   "execution_count": 2,
   "id": "9d4ee59b",
   "metadata": {},
   "outputs": [],
   "source": [
    "class List:\n",
    "    def count_spec_digits(self, integers_list, digits_list):\n",
    "        result = []\n",
    "        for d in digits_list:\n",
    "            count = 0\n",
    "            for i in integers_list:\n",
    "                count += str(i).count(str(d))\n",
    "            result.append((d, count))\n",
    "        return result"
   ]
  },
  {
   "cell_type": "code",
   "execution_count": 3,
   "id": "01a79a89",
   "metadata": {},
   "outputs": [],
   "source": [
    "def ordered_count(inp):\n",
    "    char_count = {}\n",
    "    for char in inp:\n",
    "        if char in char_count:\n",
    "            char_count[char] += 1\n",
    "        else:\n",
    "            char_count[char] = 1\n",
    "    added_chars = set()\n",
    "    result = []\n",
    "    for char in inp:\n",
    "        if char not in added_chars:\n",
    "            added_chars.add(char)\n",
    "            result.append((char, char_count[char]))\n",
    "    return result"
   ]
  },
  {
   "cell_type": "code",
   "execution_count": null,
   "id": "fcfb5c0a",
   "metadata": {},
   "outputs": [],
   "source": []
  }
 ],
 "metadata": {
  "kernelspec": {
   "display_name": "Python 3 (ipykernel)",
   "language": "python",
   "name": "python3"
  },
  "language_info": {
   "codemirror_mode": {
    "name": "ipython",
    "version": 3
   },
   "file_extension": ".py",
   "mimetype": "text/x-python",
   "name": "python",
   "nbconvert_exporter": "python",
   "pygments_lexer": "ipython3",
   "version": "3.9.13"
  }
 },
 "nbformat": 4,
 "nbformat_minor": 5
}
